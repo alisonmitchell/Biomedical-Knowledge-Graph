{
  "nbformat": 4,
  "nbformat_minor": 0,
  "metadata": {
    "colab": {
      "provenance": []
    },
    "kernelspec": {
      "name": "python3",
      "display_name": "Python 3"
    },
    "language_info": {
      "name": "python"
    }
  },
  "cells": [
    {
      "cell_type": "markdown",
      "source": [
        "<a href=\"https://nbviewer.jupyter.org/github/alisonmitchell/Biomedical-Knowledge-Graph/blob/main/02_Exploratory_Data_Analysis/Preprocessing.ipynb\"\n",
        "   target=\"_parent\">\n",
        "   <img src=\"https://raw.githubusercontent.com/jupyter/design/master/logos/Badges/nbviewer_badge.svg\"\n",
        "      width=\"109\" height=\"20\" alt=\"render in nbviewer\">\n",
        "</a>\n",
        "\n",
        "# Preprocessing\n"
      ],
      "metadata": {
        "id": "zP4ndy4-RqIw"
      }
    },
    {
      "cell_type": "markdown",
      "metadata": {
        "id": "eKhT69-CL1Bi"
      },
      "source": [
        "## 1. Introduction\n",
        "\n",
        "The mainstream NLP approaches can be classified into three categories: rule-based, statistical, and neural NLP, and a traditional NLP pipeline would include preprocessing, feature extraction, and modelling.\n",
        "\n",
        "NLP techniques have evolved over time beginning with rule-based approaches requiring several preprocessing steps such as pattern matching and parsing. This was superseded by statistical machine learning methods and featured-based approaches with supervised algorithms requiring general linguistic, orthographic or dictionary look-up features to describe the input data, which would then be ingested into a different model.\n",
        "\n",
        "This feature engineering focus then shifted towards word embeddings, or encoding raw text data into meaningful numeric feature vector representations that machine learning algorithms could understand and process. Words that are closer in the vector space are expected to be semantically similar and various methods emerged to generate the mapping of words to vectors.\n",
        "\n",
        "Frequency-based, or statistical-based, approaches such as Bag-of-Words, TF-IDF and n-grams were limited, giving way to pretrained representations using neural networks to learn word embeddings and obtain word vectors by context, co-occurrence of words, semantic and syntactic similarity. Models include prediction-based Word2Vec and fastText which use shallow neural networks, and machine learning-based GloVe, all representative algorithms of non-contextual embeddings where a word is static and does not dynamically change as its context changes.\n",
        "\n",
        "Dimensionality reduction techniques for word embeddings include Principal Component Analysis (PCA), Singular Value Decomposition (SVD)-based Latent Semantic Analysis (LSA), T-distributed Stochastic Neighbour Embedding (t-SNE) and Uniform Manifold Approximation and Projection (UMAP). Underlying patterns in the data can then be visualised by training a clustering model such as K-means.\n",
        "\n",
        "The Transformer architecture, based on the self-attention mechanism, revolutionised the field of NLP and laid the foundation for Large Language Models (LLMs) starting with encoder-only BERT (2018) used for discriminative tasks. Deep neural language models could now produce dynamic, bidirectional, context-aware representations of text by considering all words in a sequence simultaneously. The self-attention mechanism allowed the model to 'pay more attention' to the most relevant parts of the input, resulting in different vectors for the same word depending on its context.\n",
        "\n",
        "GPT (2018) was the first autoregressive, decoder-only model based on the Transformer architecture, with a unidirectional approach focusing on left-to-right text processing. Trained in causal language modelling it learned to predict the next word in a sentence and excelled at generative tasks.  \n",
        "\n",
        "Modifications to the encoder and decoder components of the Transformer architecture have given rise to a diverse range of LLMs optimised for contextual understanding, text-to-text tasks, and text generation. One of the most popular use cases for embeddings is in Retrieval Augmented Generation (RAG) applications which reduce hallucination in LLM-generated responses by grounding the model in external domain-specific data sources.\n",
        "\n",
        "We will build preprocessing, feature extraction and modelling pipelines as part of the Exploratory Data Analysis process before progressing to the Information Extraction stage.\n",
        "\n"
      ]
    },
    {
      "cell_type": "markdown",
      "metadata": {
        "id": "GotL7AHRzHCv"
      },
      "source": [
        "## 2. Install/import libraries"
      ]
    },
    {
      "cell_type": "code",
      "source": [
        "!pip install spacy scispacy"
      ],
      "metadata": {
        "id": "frKLMauE3Thr"
      },
      "execution_count": null,
      "outputs": []
    },
    {
      "cell_type": "code",
      "execution_count": null,
      "metadata": {
        "id": "W1S_Q58OzHCw"
      },
      "outputs": [],
      "source": [
        "!python -m spacy download en_core_web_sm"
      ]
    },
    {
      "cell_type": "code",
      "execution_count": null,
      "metadata": {
        "id": "bxQXomx9zHCw"
      },
      "outputs": [],
      "source": [
        "!pip install https://s3-us-west-2.amazonaws.com/ai2-s2-scispacy/releases/v0.5.3/en_core_sci_sm-0.5.3.tar.gz"
      ]
    },
    {
      "cell_type": "code",
      "execution_count": null,
      "metadata": {
        "id": "Kdxd5a3RzHCx"
      },
      "outputs": [],
      "source": [
        "import pandas as pd\n",
        "import re\n",
        "import pickle\n",
        "import spacy\n",
        "import scispacy\n",
        "import warnings\n",
        "warnings.filterwarnings(\"ignore\")\n",
        "\n",
        "from concurrent.futures import ProcessPoolExecutor\n",
        "from spacy.lang.en import stop_words\n",
        "from spacy.attrs import ORTH\n",
        "from spacy.tokenizer import Tokenizer"
      ]
    },
    {
      "cell_type": "markdown",
      "metadata": {
        "id": "8OgJvt3JzHCx"
      },
      "source": [
        "## 3. Import data\n",
        "\n",
        "\n"
      ]
    },
    {
      "cell_type": "code",
      "execution_count": null,
      "metadata": {
        "id": "TA0QfFeiYmVH"
      },
      "outputs": [],
      "source": [
        "with open('2024-02-24_pmc_arxiv_full_text_merged_plus_cleaned_article_titles_updated.pickle', 'rb') as f:\n",
        "    pmc_arxiv_full_text_merged_plus_cleaned_article_titles_updated = pickle.load(f)"
      ]
    },
    {
      "cell_type": "code",
      "execution_count": null,
      "metadata": {
        "colab": {
          "base_uri": "https://localhost:8080/"
        },
        "id": "792qr1nhY96q",
        "outputId": "9947c4a9-3cab-41bc-c76f-1079b416f532"
      },
      "outputs": [
        {
          "name": "stdout",
          "output_type": "stream",
          "text": [
            "<class 'pandas.core.frame.DataFrame'>\n",
            "RangeIndex: 11687 entries, 0 to 11686\n",
            "Data columns (total 12 columns):\n",
            " #   Column         Non-Null Count  Dtype \n",
            "---  ------         --------------  ----- \n",
            " 0   article_id     11687 non-null  object\n",
            " 1   published      11687 non-null  object\n",
            " 2   revised        11687 non-null  object\n",
            " 3   title          11687 non-null  object\n",
            " 4   title_cleaned  11687 non-null  object\n",
            " 5   journal        11426 non-null  object\n",
            " 6   authors        11687 non-null  object\n",
            " 7   doi            11450 non-null  object\n",
            " 8   pdf_url        11687 non-null  object\n",
            " 9   text           11687 non-null  object\n",
            " 10  word_count     11687 non-null  int64 \n",
            " 11  sent_count     11687 non-null  int64 \n",
            "dtypes: int64(2), object(10)\n",
            "memory usage: 1.1+ MB\n"
          ]
        }
      ],
      "source": [
        "pmc_arxiv_full_text_merged_plus_cleaned_article_titles_updated.info()"
      ]
    },
    {
      "cell_type": "markdown",
      "source": [
        "## 4. Preprocessing\n",
        "\n",
        "The first stage in any NLP project is text preprocessing which facilitates feature extraction and modelling by making natural language normalised and machine-readable.\n",
        "\n",
        "A preprocessing pipeline would typically include upstream tasks such as lowercasing, punctuation and stopword removal, tokenisation, part-of-speech tagging, dependency parsing, and stemming or lemmatisation.\n",
        "\n",
        "![spaCy processing pipeline](images/spacy_pipeline.svg)\n",
        "\n",
        "\n",
        "[spaCy's processing pipeline](https://spacy.io/usage/processing-pipelines) contains the following components by default:\n",
        "\n",
        "\n",
        "[\"tok2vec\", \"tagger\", \"parser\", \"ner\", \"attribute_ruler\", \"lemmatizer\"]\n",
        "\n",
        "\n",
        "\n",
        "\n",
        "\n",
        "\n",
        "\n",
        "\n",
        "\n",
        "\n"
      ],
      "metadata": {
        "id": "47cxBF4r1rba"
      }
    },
    {
      "cell_type": "markdown",
      "source": [
        "### 4.1 Clean title text\n",
        "\n",
        "We will use the functions defined previously for customising stopwords and special cases, and add a clean text function with a regex pattern to match alphanumeric words (including both English and Greek characters), hyphens, and full stops, but which avoids matching sequences that are just numbers by themselves. This will ensure that hyphenated words, and terms such as 'methyl-β-cyclodextrin' and 'BA.2.75' (Omicron BA.2.75 variant) are included."
      ],
      "metadata": {
        "id": "TQYZUeWVFFZ3"
      }
    },
    {
      "cell_type": "code",
      "source": [
        "# load small scispacy model with unused components disabled\n",
        "nlp = spacy.load(\"en_core_sci_sm\", disable=['parser', 'ner'])"
      ],
      "metadata": {
        "id": "9XMS4psozg4Q"
      },
      "execution_count": null,
      "outputs": []
    },
    {
      "cell_type": "code",
      "source": [
        "def preprocess_stop_words():\n",
        "    stop = set(word.lower() for word in nlp.Defaults.stop_words)\n",
        "    custom_stop_words = [\"et\", \"al\", \"al.\"]\n",
        "    for item in custom_stop_words:\n",
        "        stop.add(item)\n",
        "        nlp.vocab[item].is_stop = True\n",
        "    return stop\n",
        "\n",
        "def add_special_cases():\n",
        "    special_cases = [\n",
        "        {ORTH: \"in vitro\"},\n",
        "        {ORTH: \"in silico\"},\n",
        "        {ORTH: \"in vivo\"}\n",
        "    ]\n",
        "    for special_case in special_cases:\n",
        "        nlp.tokenizer.add_special_case(special_case[ORTH], [special_case])\n",
        "\n",
        "\n",
        "def clean_text(text):\n",
        "    pattern = re.compile(r\"(?![0-9]+\\b)[A-Za-z0-9\\-α-ωΑ-Ω.]+\")\n",
        "    cleaned_text = \" \".join(pattern.findall(text))\n",
        "    return cleaned_text"
      ],
      "metadata": {
        "id": "KSq3rcD6SKUV"
      },
      "execution_count": null,
      "outputs": []
    },
    {
      "cell_type": "markdown",
      "source": [
        "We will create a preprocessing pipeline function to apply to the title_cleaned column."
      ],
      "metadata": {
        "id": "OS0zInuvrCZ1"
      }
    },
    {
      "cell_type": "code",
      "source": [
        "def preprocess_pipe(df):\n",
        "    stop = preprocess_stop_words()\n",
        "\n",
        "    add_special_cases()\n",
        "\n",
        "    # Apply cleaning and tokenisation to the title column and remove stopwords\n",
        "    df['title_preproc'] = df['title_cleaned'].apply(lambda x: \" \".join([token.text.lower()\n",
        "    for token in nlp(clean_text(x)) if token.text.lower() not in stop]))\n",
        "    return df"
      ],
      "metadata": {
        "id": "yt0Pnkx3SUXQ"
      },
      "execution_count": null,
      "outputs": []
    },
    {
      "cell_type": "code",
      "source": [
        "pmc_arxiv_full_text_merged_plus_cleaned_article_titles_preproc = pmc_arxiv_full_text_merged_plus_cleaned_article_titles_updated.copy()"
      ],
      "metadata": {
        "id": "ztYppA707O9V"
      },
      "execution_count": null,
      "outputs": []
    },
    {
      "cell_type": "code",
      "source": [
        "%%time\n",
        "pmc_arxiv_full_text_merged_plus_cleaned_article_titles_preproc = preprocess_pipe(pmc_arxiv_full_text_merged_plus_cleaned_article_titles_preproc)"
      ],
      "metadata": {
        "colab": {
          "base_uri": "https://localhost:8080/"
        },
        "id": "kGNSlB0MJXJ0",
        "outputId": "366346e3-cd1c-42bd-d9ef-b9c1f2ebc7c7"
      },
      "execution_count": null,
      "outputs": [
        {
          "output_type": "stream",
          "name": "stdout",
          "text": [
            "CPU times: user 44.1 s, sys: 138 ms, total: 44.2 s\n",
            "Wall time: 44.5 s\n"
          ]
        }
      ]
    },
    {
      "cell_type": "code",
      "execution_count": null,
      "metadata": {
        "id": "VTVfobzq93Fy"
      },
      "outputs": [],
      "source": [
        "with open('2024-03-08_pmc_arxiv_full_text_merged_plus_cleaned_article_titles_preproc.pickle', 'wb') as f:\n",
        "  pickle.dump(pmc_arxiv_full_text_merged_plus_cleaned_article_titles_preproc, f)"
      ]
    },
    {
      "cell_type": "markdown",
      "source": [
        "We will validate that the clean text function has worked by checking a few titles."
      ],
      "metadata": {
        "id": "W0QLWuCku-ms"
      }
    },
    {
      "cell_type": "code",
      "source": [
        "pmc_arxiv_full_text_merged_plus_cleaned_article_titles_preproc.title_preproc[0]"
      ],
      "metadata": {
        "colab": {
          "base_uri": "https://localhost:8080/",
          "height": 35
        },
        "id": "6S2YPDWC52G_",
        "outputId": "8cf9cb2a-80a2-4b54-817d-2760325178fb"
      },
      "execution_count": null,
      "outputs": [
        {
          "output_type": "execute_result",
          "data": {
            "text/plain": [
              "'drug repositioning bibliometric analysis .'"
            ],
            "application/vnd.google.colaboratory.intrinsic+json": {
              "type": "string"
            }
          },
          "metadata": {},
          "execution_count": 494
        }
      ]
    },
    {
      "cell_type": "code",
      "source": [
        "pmc_arxiv_full_text_merged_plus_cleaned_article_titles_preproc.title_preproc[13]"
      ],
      "metadata": {
        "colab": {
          "base_uri": "https://localhost:8080/",
          "height": 53
        },
        "id": "z1sikXA05MG-",
        "outputId": "5d78f90e-9326-422e-9b92-b833a9520143"
      },
      "execution_count": null,
      "outputs": [
        {
          "output_type": "execute_result",
          "data": {
            "text/plain": [
              "'targeting sars-cov-2 nsp13 helicase assessment druggability pockets identification potent inhibitors multi-site in silico drug repurposing approach .'"
            ],
            "application/vnd.google.colaboratory.intrinsic+json": {
              "type": "string"
            }
          },
          "metadata": {},
          "execution_count": 486
        }
      ]
    },
    {
      "cell_type": "code",
      "source": [
        "pmc_arxiv_full_text_merged_plus_cleaned_article_titles_preproc.title_preproc[71]"
      ],
      "metadata": {
        "colab": {
          "base_uri": "https://localhost:8080/",
          "height": 53
        },
        "id": "yJwwz6hKaKcu",
        "outputId": "8a53616a-6cc9-4ef1-c784-0f7749baf4f0"
      },
      "execution_count": null,
      "outputs": [
        {
          "output_type": "execute_result",
          "data": {
            "text/plain": [
              "'sars-cov-2 targeted human rna binding proteins network biology investigate covid-19 associated manifestations .'"
            ],
            "application/vnd.google.colaboratory.intrinsic+json": {
              "type": "string"
            }
          },
          "metadata": {},
          "execution_count": 493
        }
      ]
    },
    {
      "cell_type": "markdown",
      "source": [
        "### 4.2 Lemmatisation\n",
        "\n",
        "Lemmatisation normalises tokens and uses part-of-speech (POS) tags to identify a word's root lemma and return the base form of the allowed parts of speech.\n",
        "\n"
      ],
      "metadata": {
        "id": "mBEJv1DtFQbq"
      }
    },
    {
      "cell_type": "code",
      "source": [
        "def lemmatization(texts, allowed_postags=['NOUN', 'VERB', 'ADJ', 'ADV']):\n",
        "    \"\"\"https://spacy.io/api/annotation\"\"\"\n",
        "    texts_out = []\n",
        "    for doc in nlp.pipe(texts, batch_size=20):\n",
        "        texts_out.append([token.lemma_ for token in doc if token.pos_ in allowed_postags])\n",
        "    return texts_out"
      ],
      "metadata": {
        "id": "VHmFnjsMEbxz"
      },
      "execution_count": null,
      "outputs": []
    },
    {
      "cell_type": "code",
      "source": [
        "%%time\n",
        "title_preproc_lemm = lemmatization(pmc_arxiv_full_text_merged_plus_cleaned_article_titles_preproc.title_preproc)"
      ],
      "metadata": {
        "colab": {
          "base_uri": "https://localhost:8080/"
        },
        "id": "1f7aADXTE6dy",
        "outputId": "8161d8e7-c1c1-4a85-83bd-9fadedac8ef6"
      },
      "execution_count": null,
      "outputs": [
        {
          "output_type": "stream",
          "name": "stdout",
          "text": [
            "CPU times: user 13.8 s, sys: 53 ms, total: 13.8 s\n",
            "Wall time: 15.5 s\n"
          ]
        }
      ]
    },
    {
      "cell_type": "code",
      "source": [
        "title_preproc_lemm[0:10]"
      ],
      "metadata": {
        "colab": {
          "base_uri": "https://localhost:8080/"
        },
        "outputId": "b02e804e-856d-48fc-d8af-4d599a802307",
        "id": "q9IgHxRdHYe4"
      },
      "execution_count": null,
      "outputs": [
        {
          "output_type": "execute_result",
          "data": {
            "text/plain": [
              "[['drug', 'reposition', 'bibliometric', 'analysis'],\n",
              " ['review',\n",
              "  'computer-aided',\n",
              "  'chemogenomic',\n",
              "  'drug',\n",
              "  'reposition',\n",
              "  'rational',\n",
              "  'covid-19',\n",
              "  'drug',\n",
              "  'discovery'],\n",
              " ['repurpose', 'molnupiravir', 'new', 'opportunity', 'treat', 'covid-19'],\n",
              " ['scope',\n",
              "  'repurpose',\n",
              "  'drug',\n",
              "  'potential',\n",
              "  'target',\n",
              "  'late',\n",
              "  'variant',\n",
              "  'sars-cov-2'],\n",
              " ['drug',\n",
              "  'repurpose',\n",
              "  'gene',\n",
              "  'co-expression',\n",
              "  'module',\n",
              "  'preservation',\n",
              "  'analysis',\n",
              "  'acute',\n",
              "  'respiratory',\n",
              "  'distress',\n",
              "  'syndrome',\n",
              "  'ard',\n",
              "  'systemic',\n",
              "  'inflammatory',\n",
              "  'response',\n",
              "  'syndrome',\n",
              "  'sir',\n",
              "  'sepsis',\n",
              "  'covid-19'],\n",
              " ['novel',\n",
              "  'drug',\n",
              "  'design',\n",
              "  'treatment',\n",
              "  'covid-19',\n",
              "  'systematic',\n",
              "  'review',\n",
              "  'preclinical',\n",
              "  'study'],\n",
              " ['repurpose',\n",
              "  'fda-approved',\n",
              "  'drug',\n",
              "  'cetilistat',\n",
              "  'abiraterone',\n",
              "  'diiodohydroxyquinoline',\n",
              "  'bexarotene',\n",
              "  'remdesivir',\n",
              "  'potential',\n",
              "  'inhibitor',\n",
              "  'rna',\n",
              "  'dependent',\n",
              "  'rna',\n",
              "  'polymerase',\n",
              "  'sars-cov-2',\n",
              "  'comparative',\n",
              "  'in silico',\n",
              "  'perspective'],\n",
              " ['comprehensive',\n",
              "  'review',\n",
              "  'artificial',\n",
              "  'intelligence',\n",
              "  'network',\n",
              "  'base',\n",
              "  'approach',\n",
              "  'drug',\n",
              "  'repurpose',\n",
              "  'covid-19'],\n",
              " ['structural',\n",
              "  'homology-based',\n",
              "  'drug',\n",
              "  'repurposing',\n",
              "  'approach',\n",
              "  'target',\n",
              "  'nsp12',\n",
              "  'sars-cov-2'],\n",
              " ['rational',\n",
              "  'drug',\n",
              "  'reposition',\n",
              "  'coronavirus-associated',\n",
              "  'disease',\n",
              "  'directional',\n",
              "  'mapping',\n",
              "  'side-effect',\n",
              "  'inference']]"
            ]
          },
          "metadata": {},
          "execution_count": 14
        }
      ]
    },
    {
      "cell_type": "markdown",
      "source": [
        "Here the model has reduced 'repositioning' to 'reposition' and 'repurposing' to 'repurpose'. This is because 'drug repositioning' and 'drug repurposing' are not being treated as noun chunks, and the code is word tokenising on unigrams without taking into account bigrams and trigrams."
      ],
      "metadata": {
        "id": "HpB0hcenRRrT"
      }
    },
    {
      "cell_type": "code",
      "source": [
        "pmc_arxiv_full_text_merged_plus_cleaned_article_titles_preproc['title_preproc_lemm'] = title_preproc_lemm"
      ],
      "metadata": {
        "id": "cqifQ_Ws_rEV"
      },
      "execution_count": null,
      "outputs": []
    },
    {
      "cell_type": "code",
      "source": [
        "pmc_arxiv_full_text_merged_plus_cleaned_article_titles_preproc.info()"
      ],
      "metadata": {
        "colab": {
          "base_uri": "https://localhost:8080/"
        },
        "id": "LP9lK6l5_1C1",
        "outputId": "c5295c97-e91e-4147-9cd0-95cd3add52ef"
      },
      "execution_count": null,
      "outputs": [
        {
          "output_type": "stream",
          "name": "stdout",
          "text": [
            "<class 'pandas.core.frame.DataFrame'>\n",
            "RangeIndex: 11687 entries, 0 to 11686\n",
            "Data columns (total 14 columns):\n",
            " #   Column              Non-Null Count  Dtype \n",
            "---  ------              --------------  ----- \n",
            " 0   article_id          11687 non-null  object\n",
            " 1   published           11687 non-null  object\n",
            " 2   revised             11687 non-null  object\n",
            " 3   title               11687 non-null  object\n",
            " 4   title_cleaned       11687 non-null  object\n",
            " 5   journal             11426 non-null  object\n",
            " 6   authors             11687 non-null  object\n",
            " 7   doi                 11450 non-null  object\n",
            " 8   pdf_url             11687 non-null  object\n",
            " 9   text                11687 non-null  object\n",
            " 10  word_count          11687 non-null  int64 \n",
            " 11  sent_count          11687 non-null  int64 \n",
            " 12  title_preproc       11687 non-null  object\n",
            " 13  title_preproc_lemm  11687 non-null  object\n",
            "dtypes: int64(2), object(12)\n",
            "memory usage: 1.2+ MB\n"
          ]
        }
      ]
    },
    {
      "cell_type": "code",
      "execution_count": null,
      "metadata": {
        "id": "79Oka3bm_roR"
      },
      "outputs": [],
      "source": [
        "with open('2024-03-08_pmc_arxiv_full_text_merged_plus_cleaned_article_titles_preproc.pickle', 'wb') as f:\n",
        "  pickle.dump(pmc_arxiv_full_text_merged_plus_cleaned_article_titles_preproc, f)"
      ]
    },
    {
      "cell_type": "markdown",
      "metadata": {
        "id": "beyCDcKgo5DA"
      },
      "source": [
        "### 4.3 Clean article text\n",
        "\n",
        "The full text for the first 20 articles will be cleaned by calling the same functions as before.\n",
        "\n"
      ]
    },
    {
      "cell_type": "code",
      "execution_count": null,
      "metadata": {
        "id": "xBfWR0HYo5C_"
      },
      "outputs": [],
      "source": [
        "pmc_arxiv_full_text_merged_plus_cleaned_article_titles_test = pmc_arxiv_full_text_merged_plus_cleaned_article_titles_updated.head(20).copy()"
      ]
    },
    {
      "cell_type": "code",
      "source": [
        "def preprocess_pipe(df):\n",
        "    stop = preprocess_stop_words()\n",
        "    add_special_cases()\n",
        "\n",
        "    # Apply cleaning and tokenisation to the text column\n",
        "    df['text_cleaned'] = df['text'].apply(lambda x: \" \".join([token.text.lower() for token in nlp(clean_text(x))\n",
        "                                                         if token.text.lower() not in stop]))\n",
        "    # Remove spaces before full stops\n",
        "    df['text_cleaned'] = df['text_cleaned'].str.replace(\" .\", \".\")\n",
        "\n",
        "    return df"
      ],
      "metadata": {
        "id": "WaAomjLCo5DD"
      },
      "execution_count": null,
      "outputs": []
    },
    {
      "cell_type": "markdown",
      "source": [
        "One fix has been made to the `process_pipe()` function to ensure that spaces before full stops are removed as this appeared previously in the output for titles. We will validate on a test sentence with empty parentheses added at the end."
      ],
      "metadata": {
        "id": "6GSACe6fE2h5"
      }
    },
    {
      "cell_type": "code",
      "execution_count": null,
      "metadata": {
        "id": "K89wSCnho5DD"
      },
      "outputs": [],
      "source": [
        "test = \"Sir James Black, a winner of the 1988 Nobel Prize, clearly recognized well before the 21st century that drug repurposing strategies would occupy an important place in the future of new drug discovery ().\""
      ]
    },
    {
      "cell_type": "code",
      "execution_count": null,
      "metadata": {
        "colab": {
          "base_uri": "https://localhost:8080/",
          "height": 53
        },
        "outputId": "05336ddf-b7b1-4ca8-e2c0-7aa6997c6e1a",
        "id": "IKW7Ug3to5DE"
      },
      "outputs": [
        {
          "data": {
            "application/vnd.google.colaboratory.intrinsic+json": {
              "type": "string"
            },
            "text/plain": [
              "'Sir James Black a winner of the 1988 Nobel Prize clearly recognized well before the 21st century that drug repurposing strategies would occupy an important place in the future of new drug discovery.'"
            ]
          },
          "execution_count": 130,
          "metadata": {},
          "output_type": "execute_result"
        }
      ],
      "source": [
        "clean_text(test)"
      ]
    },
    {
      "cell_type": "code",
      "execution_count": null,
      "metadata": {
        "id": "N8txkeFMo5DF"
      },
      "outputs": [],
      "source": [
        "pmc_arxiv_full_text_merged_plus_cleaned_article_titles_test = preprocess_pipe(pmc_arxiv_full_text_merged_plus_cleaned_article_titles_test)"
      ]
    },
    {
      "cell_type": "code",
      "execution_count": null,
      "metadata": {
        "colab": {
          "base_uri": "https://localhost:8080/"
        },
        "outputId": "e1bc2296-3d1b-49d5-b149-0023bb3e028a",
        "id": "GF7BIlESo5DF"
      },
      "outputs": [
        {
          "name": "stdout",
          "output_type": "stream",
          "text": [
            "<class 'pandas.core.frame.DataFrame'>\n",
            "RangeIndex: 20 entries, 0 to 19\n",
            "Data columns (total 13 columns):\n",
            " #   Column         Non-Null Count  Dtype \n",
            "---  ------         --------------  ----- \n",
            " 0   article_id     20 non-null     object\n",
            " 1   published      20 non-null     object\n",
            " 2   revised        20 non-null     object\n",
            " 3   title          20 non-null     object\n",
            " 4   title_cleaned  20 non-null     object\n",
            " 5   journal        20 non-null     object\n",
            " 6   authors        20 non-null     object\n",
            " 7   doi            20 non-null     object\n",
            " 8   pdf_url        20 non-null     object\n",
            " 9   text           20 non-null     object\n",
            " 10  word_count     20 non-null     int64 \n",
            " 11  sent_count     20 non-null     int64 \n",
            " 12  text_cleaned   20 non-null     object\n",
            "dtypes: int64(2), object(11)\n",
            "memory usage: 2.2+ KB\n"
          ]
        }
      ],
      "source": [
        "pmc_arxiv_full_text_merged_plus_cleaned_article_titles_test.info()"
      ]
    },
    {
      "cell_type": "code",
      "execution_count": null,
      "metadata": {
        "colab": {
          "base_uri": "https://localhost:8080/"
        },
        "outputId": "eb03bfd7-5f29-4577-8a18-6a06bfbce750",
        "id": "NeElZ7oho5DG"
      },
      "outputs": [
        {
          "name": "stdout",
          "output_type": "stream",
          "text": [
            "Sir James Black, a winner of the 1988 Nobel Prize, clearly recognized well before the 21st century that drug repurposing strategies would occupy an important place in the future of new drug discovery (). In 2004, Ted T. Ashburn et al. () summarized previous research and developed a general approach to drug development using drug repurposing, retrospectively looking for new indications for approved drugs and molecules that are waiting for approval for new pathways of action and targets. These molecules are usually safe in clinical trials but do not show sufficient efficacy for the treatment of the disease originally targeted (). The definition of the term “drug repurposing” has been endorsed by scholars () and used by them (; ). It should be pointed out that the synonyms of “drug repurposing” often used by academics also include drug repositioning (), drug rediscovery (), drug redirecting (), drug retasking (), and therapeutic switching (; ). After the research study by Ashburn et al., Allarakhia et al. expanded the starting materials for drug repositioning to include products that were discontinued for commercial reasons, expired patents, and candidates for laboratory testing (). In the discovery process of a completely new drug, the difficulty usually lies in its safety and efficacy, which are the main potential causes of failure of most drugs in the approval () or clinical development stage (). Using existing knowledge about a drug or known target (), the time, risk, and cost of developing a drug using drug repositioning are reduced (), thereby greatly increasing the efficiency and economics of drug development, providing a better risk–reward trade-off, and making it easier to win the favor of venture capital firms ().Since the 1990s, the repositioning of sildenafil for male erectile dysfunction () and pulmonary hypertension (), the development of a new efficacy of bupropion for smoking cessation (), new applications of thalidomide for multiple myeloma (; ), and chronic graft-versus-host disease () have generated intense interest from pharmaceutical companies and academics (). These classic success stories rely on three traditional approaches: 1) molecular biology approaches (), 2) in vivo and ex vivo experimental approaches (; ), and 3) expert knowledge-based approaches (). Due to the unknown, complex, and information-fragmented nature of drug candidates and potential new mechanisms of action (), this activity is dependent on multiple factors, and success is often fortuitous (). At the beginning of the 21st century, cheminformatics (; ), bioinformatics (; ), systems biology (; ), genomics (; ), polypharmacology (; ), precision medicine (; ), and other disciplines, combined with artificial intelligence (), have developed rapidly. These rapidly growing disciplines have promoted the generation of systematic () computer methods to make the drug repositioning process cheaper and shorter (; ). Computational drug repositioning is classified as “disease-centric” or “target/gene-centric” or “drug-centric” depending on the source of discovery (). This process relies on public biochemical databases such as DrugBank (; ), ChEMBL (), Cmap (), PDB (), OMIM (), etc., to provide the appropriate information. In fact, to make the computational drug repurposing process, including the molecular docking and virtual screening steps, more convenient, database tools specifically developed for drug repurposing, such as EK-DRD (), DREIMT (), DrugSig (), RepoDB (), Promiscuous 2.0 (), etc., have been reported in the last few years. In addition, it has been found in the literature that only 10% of the research results have been carried out in the “drug-centric” pathway, which holds great prospects for future development (). With the help of database tools, it is now possible to perform computational screening of even a staggering number of hundreds of millions of compounds (). Computer methods to carry out this screening include machine learning (), network modeling (; ), text mining, and semantic reasoning (; ; ), among others. The ultimate objective of repositioning is to transfer one or two of the most relevant results to clinical applications. Therefore, validation is quite important () and requires consideration of multiple factors, such as price, toxicity levels, bioavailability, and differences between validated and computational models (; ). Current validation methods include experimental validation (), electronic health records to aid validation (), cross-validation (; ), gold standard dataset evaluation (), literature citation validation (), and expert consultation ().Today, drug repositioning is increasingly prominent in the development of drugs for a variety of neurological diseases (; ), cancer (; ), rare diseases (; ), and infectious diseases (; ). An increasing number of pharmaceutical companies are also establishing relevant R&D programs () or funding support (). To translate relevant research results efficiently and smoothly, national departments within the United Kingdom, the United States, and the Netherlands have (; ) launched initiatives or programs to build partnerships between pharmaceutical companies and academia and to further explore scientific and commercial opportunities (). It is certain that drug repositioning currently presents several dilemmas, such as intellectual property challenges (), data platforms, and analytical techniques that need to be improved (), that financial support remains important for technology development and clinical trials (), and that some scientists deny the practical utility of the approach ().There have been systematic analyses of terminology in the drug repurposing literature (), text mining of drug–disease combinations (), and the progression of a particular drug (), but no studies have yet provided a broad overview of publications on the topic of drug repurposing research. When independent researchers or collectives (including pharmaceutical companies, academia, and government departments) seek drug repurposing partnership partners and seek to obtain a concise overview of comprehensive current research hotspots, the lack of relevant intelligence analysis to aid decision-making often makes the process convoluted and time-consuming (). The bibliometric approach can solve the aforementioned problems relatively fairly, but at present, scholars have only studied the bibliometrics of aspirin, a drug repurposing (); there has not been a panoramic study of drug repurposing, and therefore, this study is necessary. Bibliometrics is a useful tool combining multiple parameters for the quantitative analysis of scholarly publications and is currently used to assess research hotspots and trends in a wide range of disciplines and industries, such as management (; ), sociology (; ), economics (), medicine (; ), environmental engineering (; ), and agronomy (; ). Therefore, this study uses bibliometric methods () to quantitatively assess the following elements of drug repositioning publications: 1) major contributors: countries, research institutions, and authors; 2) modes of collaboration: intercountry collaborations; 3) the most productive journals; 4) the most frequently used disciplinary knowledge; and 5) research trends, judged by analyzing author keywords, Essential Science Indicators (ESI) high citations, and hot research studies.We use the Web of Science™ core database, an authoritative academic information data service platform produced by Clarivate (version © 2021 Clarivate.). Due to its rigorous selection of journals, the Web of Science (WOS) Core Collection Database is now internationally recognized as a database for evaluating the scientific output or disciplinary development of scholars and institutions. Among the subdatabases, SCI-E mainly includes global journals in basic science research, covering basic pharmacological and medical research related to the theme of this study, “drug repositioning,” while SSCI includes social science, covering ethical, nursing, psychological, and other social science research related to this study.The data were obtained on 25 October 2021 through the WOS Core Collection Database Citation Indexes SCI-E and SSCI, using the formula “drug repurposing” OR “drug repositioning” OR “drug rediscovery” OR “therapeutic switching” OR “drug redirecting” OR “drug rediscovery” OR “drug retasking” search query, searching in the “subject” field and defining the document type as “Article” and “Review”. The publication time parameters were initially limited to publications related to “drug repositioning” published between 1990 and 2020. A total of 3,009 documents were obtained, of which only 31 were published in two decades from 1990 to 2009. Of these 31 documents, except for one document that is still frequently used by scholars as a retrospective source for drug repurposing definitions in these years (), the remaining 30 were cited by other authors during the period of 2010–2020 as shown in . The overall level of interest in these studies shows a fluctuating downward trend as opposed to the rising citation fervor for drug repurposing, entering a stage of decline even under the less-demanding evaluation criterion of a 5-year maturation window (). As the literature ages, its content becomes stale and obsolete in the perspective of intelligence sources, and the value of the metrics for judging current research trends is low. Therefore, we further narrowed the study to 2,978 publications published from 2010 to 2020.The complete records of all retrieved documents are downloaded and imported for processing into Derwent Data Analyzer (DDA) version V10, a data cleaning, multiperspective data mining, and visualization software from Clarivate that improves data analysis efficiency and reduces labor costs. After importing all records of WOS documents into DDA, they are classified and measured according to a list of fields such as keyword, country/region, institution, author, research field, journal, etc. For each item in the list fieldset, DDA has a built-in data cleaning tool for automatic data deduplication.After the machine has removed duplicates, the items in the set of fields still need to be manually verified for splitting or merging. It is to be noted that the regions of certain countries are presented separately, while they are usually considered as a single country internationally. Therefore, we need to perform merging, such as combining Wales, Scotland, England, and Northern Ireland into the United Kingdom column and combining Hong Kong and Macau regions into the China column.To address the possible problem of different authors with the same name, the following two main verification steps were performed: 1) returning to the WOS database to search for publications under that author’s name under the original search formula conditions and 2) for authors whose publications provide disputed information (this also includes three cases: first, two or more authors with the same name but not the same person; second, two or more authors with the same abbreviated name, but the full names were found to be different after a search; and third, similar signatures being different variants of the same author’s name), in addition to searching the ORCID-related information of the authors concerned for judgment, we checked different institutional websites as well as encyclopedias to look for changes in the study and work history of authors with the same or similar names from 2010 to 2020 to determine whether they were the same person. Based on the verification, we then split or merged the results.After data cleaning and matrix analysis by DDA, various types of cluster plots and bubble plots can be obtained to reveal the useful information behind the data. The bibliometric fields of publication volumes, countries, international collaborations, institutions, research areas, journals, authors, highly cited research studies, and author keywords were analyzed in this study. It should be noted that because some studies were published online ahead of time and the study publication date was a year or two behind, for statistical purposes, the year of publication of such research studies was included as the year of online publication. (e.g., a study shown in the reference as published in 2022 may have been published online in 2020).Of the 2,978 papers obtained using the search criteria mentioned previously, the main ones were research studies (2248; 75.49%) and reviews (730; 24.51%). Furthermore, individual publications are not only classified by journals in the single category of research studies or reviews but also belong to other categories. These publications were also related to proceeding studies (68; 2.28%), early access (24; 0.81%), book chapters (7; 0.24%), data studies (2; 0.07%), and retracted publications (2; 0.07%). The vast majority of research studies and reviews were published in English (2967; 99.631%), with the remainder in Japanese (3; 0.101%), Chinese (2; 0.067%), Czech (1; 0.034%), French (1; 0.034%), German (1; 0.034%), Hungarian (1; 0.034%), Korean (1; 0.034%), and Portuguese (1; 0.034%). Ninety were from SSCI, and the remaining 2888 were from SCI-E. Further, 1,996 were from Open Access. An annual analysis of published research studies is shown in . The number of publications for every year expanded from 17 in 2010 to 970 in 2020. Annual publications on the subject have increased by more than 64 times. The number of annual publications has been increasing at a relatively high rate since 2015, while in 2020, there was a spike in the number of publications and annual citations, probably due to the COVID-19 pandemic, a global public health emergency that prompted special attention from scientists. Among the four countries with the highest number of publications (the United States, China, the United Kingdom, and India), the United States has maintained a high growth volume since 2010, while China was the fastest in terms of average annual growth rate in the last three years. In 2020, the number of publications in India surged and surpassed the production of the United Kingdom.With respect to the 2978 publications related to drug repositioning research, 89 countries contributed to the field of drug repositioning research. The number of publications and citations from the 20 most productive countries/regions is shown in . There are nine countries/regions in Europe, five in the Americas, five in Asia, and one in Oceania.The four most productive countries/regions are, in order, the United States, China, the United Kingdom, and India. The United States is the absolute leader in this field, with 918 research studies on drug repositioning published since 2010, which is already more than the next highest number of publications in China and the United Kingdom combined. This is followed by India (247), Italy (232), Germany (171), South Korea (161), and Japan (146). Other productive countries include Brazil (125), France (116), Canada (111), Spain (109), Australia (73), the Netherlands (73), and Switzerland (59). In terms of publication impact, the United States led the Total citations (TC) rankings with 27,355, twice as many as that of China (11,147), which ranked second. We also included the average citations per publication (ACPP) in the comparison, which is calculated by dividing the TC by the TP (total papers) value and is a relative number that may better reflect the individual or collective level of attention than the individual TC and TP values. Canada ranked first in ACPP at 41.81, closely followed by the United Kingdom (30.85) and Germany (30.49). In addition, the h-index was originally proposed as a simple quantification that a researcher had at least h publications cited h times, reflecting to a certain extent the research results of the researcher as an individual (). Later, the word “researcher” in the definition began to be replaced by collective words such as “academic group or institution (),\" “journal (),\" and “country (),\" becoming an indicator of the level of collective research to some extent. Undoubtedly, the h-index of the United States ranks first in this field with 74 times. Taking all parameters into account, we find that publications in the United Kingdom, the United States, and Canada perform better on average. While the number of publications in China and India is significant, they have received low levels of attention.It should be noted that DDA analysis software is nationally identified based on the location of each researcher’s institution address provided in the publication. If a publication is coauthored by institutions from more than two countries, the publication is defined as the result of an international collaboration. Whether there is some affiliation between the various institutions of the research group that produces the multicountry collaboration is not taken into account. As shown in , among the publications of the top 20 countries and regions, the proportion of international collaborations is quite high in European countries, especially in Sweden (86.21%) and Belgium (81.25%). Asian and Latin American countries are generally underrepresented. In addition, the United States, the most active country in publishing and the country with the most collaborations—with 59 countries or regions—still has over 50% of the studies published overall.\n",
            " depicts the academic collaboration network for the top 20 countries and regions in terms of productivity. Using DDA software, the network was mapped using a co-occurrence matrix. The size of the circles is proportional to the extent of each country’s contribution, the lines between the circles represent the collaboration between countries/regions, and the thickness of the connecting lines indicates the frequency of collaboration (). The results show that the United States cooperates most frequently with China and the United Kingdom and has the closest cooperation with them. In addition, Mexico, Belgium, Argentina, Taiwan, Japan, and Korea have slightly sparser cooperation networks among the 20 most productive countries/regions, while the remaining countries have more extensive cooperation networks among themselves.A total of 3,530 institutes were involved in drug repositioning research. The top 20 productive institutes are shown in . Eight of the top 20 institutions are from the United States, again indicating the dominance of the United States in drug repositioning research; three are from the United Kingdom; two are from China; and Brazil, France, Mexico, Canada, the Netherlands, Austria, and Sweden each have one. The Chinese Academy of Science ranked first in terms of the number of research studies, followed by Case Western Reserve University and the NIH. The Icahn School of Medicine at Mt Sinai ranked first in ACPP at 77.32. The NIH had the highest h-index value of 22. The Icahn School of Medicine at Mt Sinai was the best performer in ACPP at 77.32, followed by the University of California, San Francisco (67.82) and Johns Hopkins University (65.68), both of which are US-based research institutions. Compared with US research institutions, Chinese research institutions are at the back of the pack in terms of ACPP, and their impact needs to be improved.The collaboration network between the 15 largest institutions in 2010–2020 is shown in . The collaboration network provides a more visual view of the collaboration with different institutions and thus helps in the search for more beneficial collaborations. Next to the name of each institution is its total number of publications. At the intersections of these institutions, yellow dots indicate collaborations with the other top 10 research institutions. It should be noted that the number of yellow dots can indicate the output of cooperation and the strength of interagency cooperation. The nodal data with no crossover points represent the number of publications produced by the institute, either by its independent work or in collaboration with research institutions outside the top 15 (). From , we see that the University of Cambridge established the largest collaborative network, followed by the large network established by four institutions, the NIH, the Icahn School of Medicine at Mt Sinai, Karolinska Institute, and King’s College London. In terms of the number of copublications with established institutions, the Chinese Academy of Science and Shanghai Jiao Tong University copublished as many as six, followed by the University of Cambridge and King’s College London and the NIH and the Icahn School of Medicine at Mt Sinai. Analyzing the aforementioned three pairs of institutional combinations, King’s College London has two publications that are the product of collaboration between the three research institutions. The University of Sao Paulo and Aix-Marseille University are relatively independent in this research area. Combining the ranking of multiple parameters, we found that the NIH and Icahn Sch Med Mt Sinai in the United States are the most vocal institutions in terms of academic research result perspective on the topic.An analysis of research areas gives a good indication of the scope of application of the research topic, with an unrestrained number of 74 areas covered, with the top 20 areas of research in terms of publication volume shown in . Briefly, “pharmacology and pharmacy” took first place with 962 articles, followed by “biochemistry and molecular biology”, and for ACPP, the top three were science and technology-other topics (36.1)\", “mathematics (32.79)\", and “cell biology (29.65)\".\n",
            " shows a bubble graph of the top 20 drug repositioning research areas. The bubble plot shows three dimensions of the data, namely, research area, year of publication, and the number of publications. The horizontal change in bubble size illustrates the growing trend of research areas over time, the vertical size of the bubble shows the most popular research areas in that year, and the number in the bubble indicates the frequency of the topic in the research area and the number of publications in that year (). The number of research results in each relevant field is increasing year by year. Biophysics increased from five in 2019 to 77 in 2020, a more than 15-fold increase, suggesting that drug repositioning may have made a breakthrough or become widely used in this field. The field of virology was in a downturn from 2010 to 2014, with only one publication, with a gradual increase in relevant studies after 2015.For scholars studying drug repositioning-related topics, knowing which journals publish relevant research is important in deciding which journals to read or submit their research studies to. A total of 2,988 publications related to drug repositioning research were published in 845 journals during the period of 2010–2020. The top 25 journals in terms of a total number of studies published are shown in  Sci Rep topped the list with 75 studies published, followed by PLoS One (73; 2.52%), J. Biomol. Struct. Dyn (67; 2.45%), Bioinformatics (53; 2.25%), and BMC bioinformatics (50 articles; 1.78%). The rest of the journals had a share of less than 1.5%. In terms of total citations (TC), at present, studies in Drug Discov. have been cited a total of 2,119 times over the past 10 years, followed in rank by PLoS One (1800) and Bioinformatics (1,677). For ACPP, Drug Discov. Today still holds first place with a high frequency of 50.45 times, followed by PLoS Comput (33.14 times). The impact factor (IF) of a journal is calculated by dividing the total number of citations of all publications in the journal in the previous two years by the number of publications (). Thus,  shows that the ACPP of drug repurposing publications included in most journals is much higher than that of IF, which roughly verifies that the number of scholars interested in drug repurposing is relatively high. In terms of the impact factor (IF) of specific journals, except for Oncotarget and BMC Syst. Biol., which have not been included in SCI since 2018 and 2020, Brief. Bioinform. has the highest value of 11.622, followed by Drug Discov. Today (7.851), Bioinformatics (6.937), Cancers (6.639), Eur. J. Med. Chem (6.514), and Expert. Opin. Drug Discov. (6.098). The bubble chart shows that J. Biomol. Struct. Dyn. featured 64 publications in 2020, compared to a combined total of only four publications in the previous ten years; the Oncotarget journal inclusion in this category peaked in 2016–2017 ().For scholars interested in the topic of drug repositioning, it is useful to know how other researchers are working on the issue to facilitate communication and collaboration between scholars. A total of 15,620 authors contributed to studies within our measurement consideration, and  shows the top 20 prolific authors by a number of publications. Of these 20 highly productive authors, seven were from the United States, three were from Argentina, and two were from Germany, indicating a relatively high concentration of drug repositioning research in certain countries. In addition, the NIH (United States), Case Western Reserve University (United States), Tech University Dresden (Germany), and the National University of La Plata (Argentina) each have two of these academics.Cheng, FX leads the list with 25 research studies, followed by Talevi, A (23) and Mucke, HAM (22). For the list of corresponding authors, the top three remain, in order, Mucke, HAM (22), Cheng, FX (17), and Talevi, A (17). In terms of ACPP ranking, Butte, AJ was ranked first with 154.33 points, followed by Cheng, FX (100.56), Tang, Y (95), and Dudley, JT (82). Cheng, FX still has the highest h-index at 21, followed by Zheng, W (17), Talevi, A (12), Xu, R (11), and Schroeder, M (11). The h-index has two drawbacks when researchers of the same topic are compared with each other (). One is that the scholar’s h-index does not decrease over time but only grows or stays the same, and it is not possible to obtain information on whether the scholar is still in an academic career. In this study, we narrow the study to the most recent publications from 2010 to 2020, taking into account the timeliness of the h-index response information. Second, older scholars usually enter academia earlier and have an advantage in their h-indexes in comparison with those of younger scholars. Therefore, this phenomenon must be targeted for analysis or illustration. Thus, by combining the authors’ educational experiences and employment relationship changes that were recorded in the WOS database and ORCID business cards, we inferred that more than half of the scholars in the top 20 in terms of the number of publications received their Ph.D. before 2008, and two scholars, Mucke, HAM and Zheng, Wei, are older. In contrast, Cheng, FX, a scholar from Case Western Reserve Univ, completed his Ph.D. without a gap in 2013 and may have a longer academic career in the future; therefore, Cheng, FX’s h-index in the field of drug repositioning is likely to grow more in the future and Cheng, FX is likely to have more academic influence.To reveal the focus of drug repositioning research and research trends, the author keywords and the highly cited and hot research topics of the ESI for each of the 2978 publications were analyzed, which were also derived from the core database of the WOS database (SCI-E/SSCI) (). Highly cited studies were defined as studies in the top 1% of the citations for all studies in the same ESI discipline within the 10-year range of inclusion of ESI inclusion (). A hot research topic of the ESI refers to a study published in two years with a citation frequency within one of the corresponding disciplines in the world in the last two months ().Author keywords tend to provide more information and have thus become a widespread focus (; ). The data of 6,083 author keywords in the search results were merged to make keywords with the same meaning represented by a single unified word. In the end, 5,616 author keywords were obtained. It should be specified that some publications without author keywords were excluded from the statistical analysis. Of these author keywords, 4,296 were used only once, representing 76.50% of the total. A total of 1,216 (21.65%) appeared 2–10 times, 79 (1.41%) appeared 10–20 times, 37 (0.66%) appeared 21–50 times, and the remaining eight (0.14%) were used between 51 and 1,500 times. All keywords cumulatively appear a total of 12,400 times, while the top 30 most used author keywords appear 2,967 times alone, or approximately 23.93%, as shown in . The comparison of keywords in recent years allows for tracking the frontiers of research and predicting hotspots and trends in drug repositioning research. The bubble plots show the three dimensions of the data, namely, the year of publication, the author’s keywords, and the number of corresponding publications. The horizontal change in the size of the bubble illustrates the increasing trend of author keywords over time, the vertical size of the bubble shows the most popular keywords in that year, and the numbers in the bubble indicate the frequency of author keywords and the number of publications.The top 30 keywords include five diseases: “COVID-19/SARS-CoV-2/Coronavirus” (239), “Cancer” (75), “Alzheimer’s disease” (48), “Breast cancer (36)\", and “Chagas disease” (27). Drug names appear four times, “Antiviral drugs” (56), “Metformin” (35), “Statins” (28), and “Antibiotics” (25), which reveal the diseases and applications to which drugs were often repositioned during these 11 years. There were four subject categories, “Bioinformatics” (43), “Polypharmacology” (42), “Systems biology” (42), and “Precision medicine” (28) and eight occurrences of research methods, namely, “Virtual screening” (81), “Molecular docking” (64), “Machine learning” (54, eighth), “Clinical trials” (36), “High-throughput screening” (35), “Connectivity map” (28), and “Molecular dynamics simulation” (26).In the context of the pandemic in 2020, there was a surge in research on the subject, with “COVID-19/SARS-CoV-2/Coronavirus” topping the list of keywords as soon as they appeared that year. “Virtual screening” is a research method that appeared seven times more frequently in 2020 than in the previous year. Since “Drug repurposing/repositioning” is a subject matter and a strategy for drug discovery/drug development, it would not make much sense to analyze these two keywords. Molecular docking is one of the core steps of virtual screening, and the COVID-19 pandemic generated many opportunities for the practice of drug repositioning. Therefore, high-quality studies of the keywords “COVID-19/SARS-CoV-2/Coronavirus”, “Virtual screening”, and “Molecular docking” were surveyed, as shown in the bubble chart, in the past two years, reflecting the relevant research trend in recent years. Wang, F et al. developed a new free reverse docking server based on a consensus algorithm (combining several docking algorithm strategies) to address the original shortcomings of computational molecular docking in drug repositioning, such as a low success rate, cumbersome operational steps, and reliance on code writing (). M Lapillo et al. extensively evaluated the performance assessment of docking-based target fishing methods and developed a consensus docking-based target fishing tactic (). In a virtual screening process, Gervasoni, S. conducted a literature search for molecular binding sites for SARS-CoV-2-associated protein targets while combining pocket and docking searches to propose a new pocket mapping strategy that identifies binding cavities with significantly better performance than pocket detection alone (). Xie, L et al. screened antitoxic drugs based on the multitarget structure of the pathway center and stated that this inhibition of multiple targets in one pathway would be more effective than targeting a single protein, and the chance of drug resistance was smaller, which could be applied to other pathways (). Li, Z et al. reported a virtual screening method based on accelerated free energy perturbation absolute binding free energy (FEP-ABFE) prediction and stated that the virtual screening method based on the prediction of FEP-ABFE will play a role in many other drug repositioning studies (). After a series of drug repurposing computational screens and various validation activities by several scientists, it was agreed that raltegravir (; ), clonidine (; ), chloroquine and hydroxychloroquine () have therapeutic effects in the treatment of novel coronavirus.In addition, from the studies on the keyword “Machine learning” over the 10-year period shown in the bubble chart, it was found that the classical machine learning algorithms of support vector machines (; ; ), regularized least squares (; ), logistic regression (; ; ), and random forests (; ) have been widely used in inferring drug–target and drug–disease interactions.While the level of influence of a study is reflected by a combination of many aspects, the number of citations remains an important indicator (). Based on the definition of highly cited and hot ESI papers in  of this study, a total of 108 highly cited studies were obtained, of which 11 were hot research topics. Hot research topics are shown in . It should be noted that the first-ranked author is used here as a representative, and the corresponding institution is shown. This rule is followed in  of this study. All hot research topics were published in 2020, and with the exception of an article describing the damage caused by nonsteroidal anti-inflammatory drugs (NSAIDs) to multiple organs and new information on drug repurposing (), the remaining studies focused on drug repositioning therapeutic target studies in novel coronavirus pneumonia (; ), screening drug studies (; ; ; ; ), reviews of clinical trials (; ), and reports of other coronavirus therapeutic agents and vaccine studies (). From the perspective of cooperation, most of them were completed by a country’s independent agency. In terms of the countries and regions studied, four studies involved US scholars, five studies involved Asian scholars, and one contribution was from an African scholar. In addition, “A SARS-CoV-2 protein interaction map reveals targets for drug repurposing ()”, published in Nature by Gordon, DE with a total of 125 scholars from the United States, the United Kingdom, and France was the most cited publication with 952 citations.Eleven hot research topics were removed from the 108 highly cited ESI studies, and the top 20 most cited studies were selected from the remaining highly cited studies for analysis. In terms of year of publication, the study by Dudley, JT et al. published in NUCLEIC ACIDS RESEARCH in February 2011 was the earliest of these studies (). Five highly cited studies were published in 2013, and three studies were published as recently as 2020. Two studies were published in Nature, and one each was published in Nat. Rev. Drug Discov. and Nat. Med. subj. of Nature E; J. Med. Chem. L was next with two studies. There were 12 studies with the first author or coauthor from the United States, representing more than half of those in , followed by China (4), Canada (2), England (2), Germany (2), Japan (2), and Switzerland (2) in order of contribution of two or more studies. Nine studies were based on collaborations between different institutions in multiple countries. One of them, entitled “Alcohol-abuse drug disulfiram targets cancer via p97 segregase adapter NPL4”, published in Nature in 2017 by Skrott, Z et al. is a collaboration between scholars from six countries: Czech Republic, the United States, Denmark, Sweden, Switzerland, and China (). In TC, “DrugBank 5.0: a major update to the DrugBank database for 2018” () by Canadian University of Alberta scientists Wishart, DS et al. ranked first (1820 total citations). The most cited publication on an annual basis was “Network-based drug repurposing for novel coronavirus 2019-nCoV/SARS-CoV-2”, published in 2020, which was authored by Zhou, YD et al. and was the highest annual average cited publication with 609 citations (). The scientists Cheng, FX and Dudley, JT, contributed to two of these 20 publications and are important influencers in the field.The three studies published in 2020 focus on novel coronavirus-related drug rediscovery activities () and the use of deep learning techniques (; ).  and Pushpakom, S et al. (2019) provided systematic reviews of the methods and challenges of drug repositioning at that time (; ). Initially, Sirota, M et al. (2011) explored the role of integrating genome-wide computational approaches for predicting reusable drugs (), while from 2013 onward, Peters, JU et al., Medina-Franco et al., JL et al., Reddy, AS et al., and Anighoro, A et al. generally recognized the importance of combining multiple points of pharmacological knowledge for drug repositioning studies (; ; ; ). In the face of a worldwide health emergency caused by the Zika virus epidemic,  used drug repositioning to identify lead compounds for drug development (). Of course, techniques related to the mining of repositionable drugs through experimental high-throughput screening, a traditional experimental approach, are not without progress; for example,  () explored the challenges of transferring 3D cell culture technology to the use of high-throughput screening (HTS) ().In 1995, Mchugh et al. investigated the immunomodulatory action mechanism of thalidomide in humans, which was the first relevant publication on drug repositioning (). The publication time can be divided into three phases: the growth period of 1995–2009, the steady growth period of 2010–2018, and the rapid rise from 2019 and beyond. The 2978 publications studied between 2010 and 2020 were completed by 15,338 authors from 3,530 research institutions in 89 countries, and at the time of this study’s completion, the WOS database had surpassed more than 1,400 publications in 2021 under the same search restrictions for the topic, with more than 31,000 citations for the year, supporting further evidence that the topic is still gaining momentum worldwide.The publication countries/regions are divided into three types: first, countries with a traditionally developed medical level, mainly developed countries in Western Europe, North America, and Oceania; second, countries with a developed pharmaceutical manufacturing industry, such as India and Japan in Asia; and third, developing countries with some research potential, such as China, Brazil, Argentina, and Mexico. In terms of national cooperation, Western European countries have shown a high degree of cooperation, with the United States, China, and the United Kingdom cooperating more frequently. This may be because Western European countries have a tradition of cooperation in the field of research, and the United States, China, and the United Kingdom are the most powerful countries in terms of drug repositioning publications and therefore cooperate more with each other. The United States accounts for half of the 20 most productive institutions, which may explain why the United States still publishes more than 50% of its studies independently, despite having the largest international collaborative network base, because it already has the most active and high-quality producing institutions within the country for research institutions seeking collaboration. Furthermore, 19 of these 20 institutions are universities and research institutes, and one is a company, HM Pharma Consultancy, which was established in 2000 to focus on drug repositioning for the development of new drugs (). This evidence suggests that the topic of drug repositioning is not only widely studied in academia but also has a place in the industry.The 2978 studies are spread across 74 research areas, but pharmacology and pharmacy and biochemistry and molecular biology account for a larger proportion of the total number of studies. It is quite notable that the majority of studies reported in biophysics did not rise significantly until 2020. The reasons for this may be the following: first, there was a breakthrough in basic research in this field in 2020 and second, due to the novel coronavirus, research in this direction has increased its application for the prevention and control of the pandemic.In terms of journals, Sci Rep ranked first, followed by PLoS One and J. Biomol. Struct. Dyn. In terms of lead authors, three have the most productive and influential positions: Cheng, FX is the most prolific author, based on the number of papers and h-index; Mucke, HAM is the most frequent corresponding author; and Butte, AJ is the top author in terms of ACPP ranking. Even though Latin American countries do not have an advantage in terms of national cooperation or the total number of institutional funding units, Latin American scholars have overcome many obstacles and are actively at the forefront of scholarship, contributing significantly to the field.Through the analysis of the authors’ keywords, cancer has been the main disease addressed by this method. Metformin has been found by many scientists to have a good inhibitory effect on various tumors, mainly in gynecology (; ; ; ), and it has become a specific drug that has been most frequently mentioned in drug reuse in recent years. In terms of “antiviral drugs”, scholars not only use drug repositioning to find antiviral drugs to treat diseases, such as Ebola (; ) and HIV (), that have plagued humans for a long time but also use this method to seek treatments for infectious diseases, such as Zika virus (; ) and novel coronaviruses that have threatened several countries and even the world. For these diseases, emergency research on drug repositioning has played an important role in reducing mortality, calming patient fears, and restoring economic production when no specific drugs or vaccines were initially available during the pandemic. The combination of precision medicine and drug repositioning studies, often used to seek treatments for rare diseases () and, in particular, genetically related diseases (), is expected to be fully developed in the future. In the past 2 years, “Virtual screening”, together with “Molecular docking” and “Machine learning”, has become the most cutting-edge and important research methods in related technology fields, constantly improving the accuracy of drug reuse and screening. Currently, to develop more efficient and accurate research, there are two trends in the use of drug repositioning. One is the combination of various methods, such as the use of text mining and network analysis, and the creation of statistical models for predicting semantic link association to assess the relationship between pharmacological target pairings (); text analysis combined with machine learning () to develop drugs for Parkinson’s disease; prediction of new DTIs using data from multiple databases (); and the obtained relocated anticancer drugs were verified by cross-validation, literature, and experimental verification (). Second, the most advanced algorithms are applied and improved, such as matrix decomposition (; ; ; ; ) and matrix completion (; ) and deep learning (; ; ; ; ; ).In fact, some of the studies in the list of highly cited research topics on novel coronaviruses drug repurposing studies are currently approaching 3,000 citations on Google Scholar (). The percentage of highly cited studies and hot research topics related to novel coronaviruses is also a good indication that the method has made an indelible contribution to the study of novel coronaviruses and similar infectious diseases. Auxiliary technology for the experimental screening of traditional drugs is also developing (), which also promotes drug repositioning or other drug development processes. Furthermore, the high-quality results of Elfiky, AA, a scientist from Cairo University, Egypt (), suggest that relevant research in some economically underdeveloped countries may reach top levels worldwide due to the return or affiliation of some prominent scientists.For this research, the literature on drug repositioning research published in the SCI-E and SSCI sections of WOS core journals from 2010 to 2020 was analyzed based on bibliometrics and DDA software. This area has been of interest to scientists since the end of the 20th century and entered a period of rapid growth in 2019, with the peak far from being reached. Using bibliometrics as a tool, the United States has become a world leader in terms of the number of submissions, number of high-quality studies, funding support, strength of research institutions, and number of top scholars, followed by China and the United Kingdom, where more research is being performed in this area. As a method of drug discovery, drug repurposing is closely related to the development of various biomedical disciplines, and computer-related disciplinary methods, such as mathematical computational biology and computer science, have taken an important place in the research of this field in the last decade. The authors’ keyword analysis suggests that research in the field of the novel coronavirus will remain valuable until the associated pandemic is completely contained. Virtual screening, molecular docking, machine learning, and other related technical fields still need long-term development to achieve efficient and accurate repositioning of drugs (). Precision medicine, combined with drug repositioning, is the most promising direction for the future. In conclusion, drug repositioning can help to treat more diseases, such as drug resistance, poor drug selectivity, and limited therapeutic options.This study may help some scholars with an initial interest in drug repositioning-related research to gain a concise and rapid understanding of the current state of global research, as well as offer some relevant information to institutions or groups seeking collaboration.It is worth noting that this study has some biases and limitations. First, there are still some issues with the publications included in the study based on subject terms: 1) some relevant publications that do not use the search formula in this study may have been excluded from this study and 2) there may also be a small number of articles whose use of some of the aforementioned search terms deviates significantly from the general understanding; yet, such publications are included in this study. Second, some extraneous factors distort the credibility of the bibliometric statistics. 1) When analyzing the keywords of publications, some publications are excluded from the statistical analysis because they do not list author keywords (e.g., ()). 2) Excessive self-citation by some authors () inflates the actual level of interest in the publication. 3) for a publication, when an author submits more than one institution’s address information, this publication is counted as research results by each institution. Finally, in future work, patents from the WOS database associated with the topic of drug repositioning will be analyzed to provide another perspective on the situation of the topic in terms of applications and technological innovations.\n"
          ]
        }
      ],
      "source": [
        "# First article text before cleaning\n",
        "print(pmc_arxiv_full_text_merged_plus_cleaned_article_titles_test.text[0])"
      ]
    },
    {
      "cell_type": "code",
      "execution_count": null,
      "metadata": {
        "colab": {
          "base_uri": "https://localhost:8080/"
        },
        "outputId": "9e80582c-347d-4bdc-bf1f-b75987d04e20",
        "id": "EgUm8RMSo5DH"
      },
      "outputs": [
        {
          "name": "stdout",
          "output_type": "stream",
          "text": [
            "sir james black winner nobel prize clearly recognized 21st century drug repurposing strategies occupy important place future new drug discovery. ted t. ashburn summarized previous research developed general approach drug development drug repurposing retrospectively looking new indications approved drugs molecules waiting approval new pathways action targets. molecules usually safe clinical trials sufficient efficacy treatment disease originally targeted. definition term drug repurposing endorsed scholars. pointed synonyms drug repurposing academics include drug repositioning drug rediscovery drug redirecting drug retasking therapeutic switching. research study ashburn allarakhia expanded starting materials drug repositioning include products discontinued commercial reasons expired patents candidates laboratory testing. discovery process completely new drug difficulty usually lies safety efficacy main potential causes failure drugs approval clinical development stage. existing knowledge drug known target time risk cost developing drug drug repositioning reduced greatly increasing efficiency economics drug development providing better risk reward trade-off making easier win favor venture capital firms.since 1990s repositioning sildenafil male erectile dysfunction pulmonary hypertension development new efficacy bupropion smoking cessation new applications thalidomide multiple myeloma chronic graft-versus-host disease generated intense interest pharmaceutical companies academics. classic success stories rely traditional approaches molecular biology approaches in vivo ex vivo experimental approaches expert knowledge-based approaches. unknown complex information-fragmented nature drug candidates potential new mechanisms action activity dependent multiple factors success fortuitous. beginning 21st century cheminformatics bioinformatics systems biology genomics polypharmacology precision medicine disciplines combined artificial intelligence developed rapidly. rapidly growing disciplines promoted generation systematic computer methods drug repositioning process cheaper shorter. computational drug repositioning classified disease-centric target gene-centric drug-centric depending source discovery. process relies public biochemical databases drugbank chembl cmap pdb omim etc. provide appropriate information. fact computational drug repurposing process including molecular docking virtual screening steps convenient database tools specifically developed drug repurposing ek-drd dreimt drugsig repodb promiscuous.0 etc. reported years. addition found literature research results carried drug-centric pathway holds great prospects future development. help database tools possible perform computational screening staggering number hundreds millions compounds. computer methods carry screening include machine learning network modeling text mining semantic reasoning. ultimate objective repositioning transfer relevant results clinical applications. validation important requires consideration multiple factors price toxicity levels bioavailability differences validated computational models. current validation methods include experimental validation electronic health records aid validation cross-validation gold standard dataset evaluation literature citation validation expert consultation.today drug repositioning increasingly prominent development drugs variety neurological diseases cancer rare diseases infectious diseases. increasing number pharmaceutical companies establishing relevant r d programs funding support. translate relevant research results efficiently smoothly national departments united kingdom united states netherlands launched initiatives programs build partnerships pharmaceutical companies academia explore scientific commercial opportunities. certain drug repositioning currently presents dilemmas intellectual property challenges data platforms analytical techniques need improved financial support remains important technology development clinical trials scientists deny practical utility approach.there systematic analyses terminology drug repurposing literature text mining drug disease combinations progression particular drug studies provided broad overview publications topic drug repurposing research. independent researchers collectives including pharmaceutical companies academia government departments seek drug repurposing partnership partners seek obtain concise overview comprehensive current research hotspots lack relevant intelligence analysis aid decision-making makes process convoluted time-consuming. bibliometric approach solve aforementioned problems relatively fairly present scholars studied bibliometrics aspirin drug repurposing panoramic study drug repurposing study necessary. bibliometrics useful tool combining multiple parameters quantitative analysis scholarly publications currently assess research hotspots trends wide range disciplines industries management sociology economics medicine environmental engineering agronomy. study uses bibliometric methods quantitatively assess following elements drug repositioning publications major contributors countries research institutions authors modes collaboration intercountry collaborations productive journals frequently disciplinary knowledge research trends judged analyzing author keywords essential science indicators esi high citations hot research studies. use web science core database authoritative academic information data service platform produced clarivate version clarivate.. rigorous selection journals web science wos core collection database internationally recognized database evaluating scientific output disciplinary development scholars institutions. subdatabases sci-e mainly includes global journals basic science research covering basic pharmacological medical research related theme study drug repositioning ssci includes social science covering ethical nursing psychological social science research related study. data obtained october wos core collection database citation indexes sci-e ssci formula drug repurposing drug repositioning drug rediscovery therapeutic switching drug redirecting drug rediscovery drug retasking search query searching subject field defining document type article review. publication time parameters initially limited publications related drug repositioning published. total documents obtained published decades. documents document frequently scholars retrospective source drug repurposing definitions years remaining cited authors period shown. overall level interest studies shows fluctuating downward trend opposed rising citation fervor drug repurposing entering stage decline less-demanding evaluation criterion -year maturation window. literature ages content stale obsolete perspective intelligence sources value metrics judging current research trends low. narrowed study publications published.the complete records retrieved documents downloaded imported processing derwent data analyzer dda version v10 data cleaning multiperspective data mining visualization software clarivate improves data analysis efficiency reduces labor costs. importing records wos documents dda classified measured according list fields keyword country region institution author research field journal etc. item list fieldset dda built-in data cleaning tool automatic data deduplication. machine removed duplicates items set fields need manually verified splitting merging. noted regions certain countries presented separately usually considered single country internationally. need perform merging combining wales scotland england northern ireland united kingdom column combining hong kong macau regions china column. address possible problem different authors following main verification steps performed returning wos database search publications author s original search formula conditions authors publications provide disputed information includes cases authors person second authors abbreviated names found different search similar signatures different variants author s addition searching orcid-related information authors concerned judgment checked different institutional websites encyclopedias look changes study work history authors similar names determine person. based verification split merged results. data cleaning matrix analysis dda types cluster plots bubble plots obtained reveal useful information data. bibliometric fields publication volumes countries international collaborations institutions research areas journals authors highly cited research studies author keywords analyzed study. noted studies published online ahead time study publication date year statistical purposes year publication research studies included year online publication. e.g. study shown reference published published online.of papers obtained search criteria mentioned previously main ones research studies.49 reviews.51. furthermore individual publications classified journals single category research studies reviews belong categories. publications related proceeding studies.28 early access.81 book chapters.24 data studies.07 retracted publications.07. vast majority research studies reviews published english.631 remainder japanese.101 chinese.067 czech.034 french.034 german.034 hungarian.034 korean.034 portuguese.034. ninety ssci remaining sci-e. open access. annual analysis published research studies shown. number publications year expanded. annual publications subject increased times. number annual publications increasing relatively high rate spike number publications annual citations probably covid-19 pandemic global public health emergency prompted special attention scientists. countries highest number publications united states china united kingdom india united states maintained high growth volume china fastest terms average annual growth rate years. number publications india surged surpassed production united kingdom. respect publications related drug repositioning research countries contributed field drug repositioning research. number publications citations productive countries regions shown. countries regions europe americas asia oceania. productive countries regions order united states china united kingdom india. united states absolute leader field research studies drug repositioning published highest number publications china united kingdom combined. followed india italy germany south korea japan. productive countries include brazil france canada spain australia netherlands switzerland. terms publication impact united states led total citations tc rankings twice china ranked second. included average citations publication acpp comparison calculated dividing tc tp total papers value relative number better reflect individual collective level attention individual tc tp values. canada ranked acpp.81 closely followed united kingdom.85 germany.49. addition h-index originally proposed simple quantification researcher h publications cited h times reflecting certain extent research results researcher individual. later word researcher definition began replaced collective words academic group institution journal country indicator level collective research extent. undoubtedly h-index united states ranks field times. taking parameters account find publications united kingdom united states canada perform better average. number publications china india significant received low levels attention. noted dda analysis software nationally identified based location researcher s institution address provided publication. publication coauthored institutions countries publication defined result international collaboration. affiliation institutions research group produces multicountry collaboration taken account. shown publications countries regions proportion international collaborations high european countries especially sweden.21 belgium.25. asian latin american countries generally underrepresented. addition united states active country publishing country collaborations countries regions studies published overall. depicts academic collaboration network countries regions terms productivity. dda software network mapped co-occurrence matrix. size circles proportional extent country s contribution lines circles represent collaboration countries regions thickness connecting lines indicates frequency collaboration. results united states cooperates frequently china united kingdom closest cooperation. addition mexico belgium argentina taiwan japan korea slightly sparser cooperation networks productive countries regions remaining countries extensive cooperation networks. total institutes involved drug repositioning research. productive institutes shown. institutions united states indicating dominance united states drug repositioning research united kingdom china brazil france mexico canada netherlands austria sweden. chinese academy science ranked terms number research studies followed case western reserve university nih. icahn school medicine mt sinai ranked acpp.32. nih highest h-index value. icahn school medicine mt sinai best performer acpp.32 followed university california san francisco.82 johns hopkins university.68 us-based research institutions. compared research institutions chinese research institutions pack terms acpp impact needs improved. collaboration network largest institutions shown. collaboration network provides visual view collaboration different institutions helps search beneficial collaborations. institution total number publications. intersections institutions yellow dots indicate collaborations research institutions. noted number yellow dots indicate output cooperation strength interagency cooperation. nodal data crossover points represent number publications produced institute independent work collaboration research institutions outside. university cambridge established largest collaborative network followed large network established institutions nih icahn school medicine mt sinai karolinska institute king s college london. terms number copublications established institutions chinese academy science shanghai jiao tong university copublished followed university cambridge king s college london nih icahn school medicine mt sinai. analyzing aforementioned pairs institutional combinations king s college london publications product collaboration research institutions. university sao paulo aix-marseille university relatively independent research area. combining ranking multiple parameters found nih icahn sch med mt sinai united states vocal institutions terms academic research result perspective topic. analysis research areas gives good indication scope application research topic unrestrained number areas covered areas research terms publication volume shown. briefly pharmacology pharmacy took place articles followed biochemistry molecular biology acpp science technology-other topics.1 mathematics.79 cell biology.65. shows bubble graph drug repositioning research areas. bubble plot shows dimensions data research area year publication number publications. horizontal change bubble size illustrates growing trend research areas time vertical size bubble shows popular research areas year number bubble indicates frequency topic research area number publications year. number research results relevant field increasing year year. biophysics increased -fold increase suggesting drug repositioning breakthrough widely field. field virology downturn publication gradual increase relevant studies.for scholars studying drug repositioning-related topics knowing journals publish relevant research important deciding journals read submit research studies. total publications related drug repositioning research published journals period. journals terms total number studies published shown sci rep topped list studies published followed plos.52 j. biomol. struct. dyn.45 bioinformatics.25 bmc bioinformatics articles.78. rest journals share.5. terms total citations tc present studies drug discov. cited total times past years followed rank plos bioinformatics. acpp drug discov. today holds place high frequency.45 times followed plos comput.14 times. impact factor journal calculated dividing total number citations publications journal previous years number publications. shows acpp drug repurposing publications included journals higher roughly verifies number scholars interested drug repurposing relatively high. terms impact factor specific journals oncotarget bmc syst. biol. included sci brief. bioinform. highest value.622 followed drug discov. today.851 bioinformatics.937 cancers.639 eur. j. med. chem.514 expert. opin. drug discov..098. bubble chart shows j. biomol. struct. dyn. featured publications compared combined total publications previous years oncotarget journal inclusion category peaked.for scholars interested topic drug repositioning useful know researchers working issue facilitate communication collaboration scholars. total authors contributed studies measurement consideration shows prolific authors number publications. highly productive authors seven united states argentina germany indicating relatively high concentration drug repositioning research certain countries. addition nih united states case western reserve university united states tech university dresden germany national university la plata argentina academics. cheng fx leads list research studies followed talevi mucke ham. list corresponding authors remain order mucke ham cheng fx talevi. terms acpp ranking butte aj ranked.33 points followed cheng fx.56 tang y dudley jt. cheng fx highest h-index followed zheng w talevi xu r schroeder m. h-index drawbacks researchers topic compared. scholar s h-index decrease time grows stays possible obtain information scholar academic career. study narrow study recent publications taking account timeliness h-index response information. second older scholars usually enter academia earlier advantage h-indexes comparison younger scholars. phenomenon targeted analysis illustration. combining authors educational experiences employment relationship changes recorded wos database orcid business cards inferred half scholars terms number publications received ph.d. scholars mucke ham zheng wei older. contrast cheng fx scholar case western reserve univ completed ph.d. gap longer academic career future cheng fx s h-index field drug repositioning likely grow future cheng fx likely academic influence. reveal focus drug repositioning research research trends author keywords highly cited hot research topics esi publications analyzed derived core database wos database sci-e ssci. highly cited studies defined studies citations studies esi discipline -year range inclusion esi inclusion. hot research topic esi refers study published years citation frequency corresponding disciplines world months.author keywords tend provide information widespread focus. data author keywords search results merged keywords meaning represented single unified word. end author keywords obtained. specified publications author keywords excluded statistical analysis. author keywords representing.50 total. total.65 appeared times.41 appeared times.66 appeared times remaining.14 times. keywords cumulatively appear total times author keywords appear times approximately.93 shown. comparison keywords recent years allows tracking frontiers research predicting hotspots trends drug repositioning research. bubble plots dimensions data year publication author s keywords number corresponding publications. horizontal change size bubble illustrates increasing trend author keywords time vertical size bubble shows popular keywords year numbers bubble indicate frequency author keywords number publications. keywords include diseases covid-19 sars-cov-2 coronavirus cancer alzheimer s disease breast cancer chagas disease. drug names appear times antiviral drugs metformin statins antibiotics reveal diseases applications drugs repositioned years. subject categories bioinformatics polypharmacology systems biology precision medicine occurrences research methods virtual screening molecular docking machine learning eighth clinical trials high-throughput screening connectivity map molecular dynamics simulation.in context pandemic surge research subject covid-19 sars-cov-2 coronavirus topping list keywords soon appeared year. virtual screening research method appeared seven times frequently previous year. drug repurposing repositioning subject matter strategy drug discovery drug development sense analyze keywords. molecular docking core steps virtual screening covid-19 pandemic generated opportunities practice drug repositioning. high-quality studies keywords covid-19 sars-cov-2 coronavirus virtual screening molecular docking surveyed shown bubble chart past years reflecting relevant research trend recent years. wang f developed new free reverse docking server based consensus algorithm combining docking algorithm strategies address original shortcomings computational molecular docking drug repositioning low success rate cumbersome operational steps reliance code writing. m lapillo extensively evaluated performance assessment docking-based target fishing methods developed consensus docking-based target fishing tactic. virtual screening process gervasoni s. conducted literature search molecular binding sites sars-cov-2-associated protein targets combining pocket docking searches propose new pocket mapping strategy identifies binding cavities significantly better performance pocket detection. xie l screened antitoxic drugs based multitarget structure pathway center stated inhibition multiple targets pathway effective targeting single protein chance drug resistance smaller applied pathways. li z reported virtual screening method based accelerated free energy perturbation absolute binding free energy fep-abfe prediction stated virtual screening method based prediction fep-abfe play role drug repositioning studies. series drug repurposing computational screens validation activities scientists agreed raltegravir clonidine chloroquine hydroxychloroquine therapeutic effects treatment novel coronavirus. addition studies keyword machine learning -year period shown bubble chart found classical machine learning algorithms support vector machines regularized squares logistic regression random forests widely inferring drug target drug disease interactions. level influence study reflected combination aspects number citations remains important indicator. based definition highly cited hot esi papers study total highly cited studies obtained hot research topics. hot research topics shown. noted first-ranked author representative corresponding institution shown. rule followed study. hot research topics published exception article describing damage caused nonsteroidal anti-inflammatory drugs nsaids multiple organs new information drug repurposing remaining studies focused drug repositioning therapeutic target studies novel coronavirus pneumonia screening drug studies reviews clinical trials reports coronavirus therapeutic agents vaccine studies. perspective cooperation completed country s independent agency. terms countries regions studied studies involved scholars studies involved asian scholars contribution african scholar. addition sars-cov-2 protein interaction map reveals targets drug repurposing published nature gordon de total scholars united states united kingdom france cited publication citations. hot research topics removed highly cited esi studies cited studies selected remaining highly cited studies analysis. terms year publication study dudley jt published nucleic acids research february earliest studies. highly cited studies published studies published recently. studies published nature published nat. rev. drug discov. nat. med. subj. nature e j. med. chem. l studies. studies author coauthor united states representing half followed china canada england germany japan switzerland order contribution studies. studies based collaborations different institutions multiple countries. entitled alcohol-abuse drug disulfiram targets cancer p97 segregase adapter npl4 published nature skrott z collaboration scholars countries czech republic united states denmark sweden switzerland china. tc drugbank.0 major update drugbank database canadian university alberta scientists wishart ds ranked total citations. cited publication annual basis network-based drug repurposing novel coronavirus -ncov sars-cov-2 published authored zhou yd highest annual average cited publication citations. scientists cheng fx dudley jt contributed publications important influencers field. studies published focus novel coronavirus-related drug rediscovery activities use deep learning techniques. pushpakom s provided systematic reviews methods challenges drug repositioning time. initially sirota m explored role integrating genome-wide computational approaches predicting reusable drugs onward peters ju medina-franco jl reddy anighoro generally recognized importance combining multiple points pharmacological knowledge drug repositioning studies. face worldwide health emergency caused zika virus epidemic drug repositioning identify lead compounds drug development. course techniques related mining repositionable drugs experimental high-throughput screening traditional experimental approach progress example explored challenges transferring 3d cell culture technology use high-throughput screening hts.in mchugh investigated immunomodulatory action mechanism thalidomide humans relevant publication drug repositioning. publication time divided phases growth period steady growth period rapid rise. publications studied completed authors research institutions countries time study s completion wos database surpassed publications search restrictions topic citations year supporting evidence topic gaining momentum worldwide. publication countries regions divided types countries traditionally developed medical level mainly developed countries western europe north america oceania second countries developed pharmaceutical manufacturing industry india japan asia developing countries research potential china brazil argentina mexico. terms national cooperation western european countries shown high degree cooperation united states china united kingdom cooperating frequently. western european countries tradition cooperation field research united states china united kingdom powerful countries terms drug repositioning publications cooperate. united states accounts half productive institutions explain united states publishes studies independently despite having largest international collaborative network base active high-quality producing institutions country research institutions seeking collaboration. furthermore institutions universities research institutes company hm pharma consultancy established focus drug repositioning development new drugs. evidence suggests topic drug repositioning widely studied academia place industry. studies spread research areas pharmacology pharmacy biochemistry molecular biology account larger proportion total number studies. notable majority studies reported biophysics rise significantly. reasons following breakthrough basic research field second novel coronavirus research direction increased application prevention control pandemic. terms journals sci rep ranked followed plos j. biomol. struct. dyn. terms lead authors productive influential positions cheng fx prolific author based number papers h-index mucke ham frequent corresponding author butte aj author terms acpp ranking. latin american countries advantage terms national cooperation total number institutional funding units latin american scholars overcome obstacles actively forefront scholarship contributing significantly field. analysis authors keywords cancer main disease addressed method. metformin found scientists good inhibitory effect tumors mainly gynecology specific drug frequently mentioned drug reuse recent years. terms antiviral drugs scholars use drug repositioning find antiviral drugs treat diseases ebola hiv plagued humans long time use method seek treatments infectious diseases zika virus novel coronaviruses threatened countries world. diseases emergency research drug repositioning played important role reducing mortality calming patient fears restoring economic production specific drugs vaccines initially available pandemic. combination precision medicine drug repositioning studies seek treatments rare diseases particular genetically related diseases expected fully developed future. past years virtual screening molecular docking machine learning cutting-edge important research methods related technology fields constantly improving accuracy drug reuse screening. currently develop efficient accurate research trends use drug repositioning. combination methods use text mining network analysis creation statistical models predicting semantic link association assess relationship pharmacological target pairings text analysis combined machine learning develop drugs parkinson s disease prediction new dtis data multiple databases obtained relocated anticancer drugs verified cross-validation literature experimental verification. second advanced algorithms applied improved matrix decomposition matrix completion deep learning.in fact studies list highly cited research topics novel coronaviruses drug repurposing studies currently approaching citations google scholar. percentage highly cited studies hot research topics related novel coronaviruses good indication method indelible contribution study novel coronaviruses similar infectious diseases. auxiliary technology experimental screening traditional drugs developing promotes drug repositioning drug development processes. furthermore high-quality results elfiky aa scientist cairo university egypt suggest relevant research economically underdeveloped countries reach levels worldwide return affiliation prominent scientists. research literature drug repositioning research published sci-e ssci sections wos core journals analyzed based bibliometrics dda software. area interest scientists end 20th century entered period rapid growth peak far reached. bibliometrics tool united states world leader terms number submissions number high-quality studies funding support strength research institutions number scholars followed china united kingdom research performed area. method drug discovery drug repurposing closely related development biomedical disciplines computer-related disciplinary methods mathematical computational biology computer science taken important place research field decade. authors keyword analysis suggests research field novel coronavirus remain valuable associated pandemic completely contained. virtual screening molecular docking machine learning related technical fields need long-term development achieve efficient accurate repositioning drugs. precision medicine combined drug repositioning promising direction future. conclusion drug repositioning help treat diseases drug resistance poor drug selectivity limited therapeutic options. study help scholars initial interest drug repositioning-related research gain concise rapid understanding current state global research offer relevant information institutions groups seeking collaboration. worth noting study biases limitations. issues publications included study based subject terms relevant publications use search formula study excluded study small number articles use aforementioned search terms deviates significantly general understanding publications included study. second extraneous factors distort credibility bibliometric statistics. analyzing keywords publications publications excluded statistical analysis list author keywords e.g.. excessive self-citation authors inflates actual level interest publication. publication author submits institution s address information publication counted research results institution. finally future work patents wos database associated topic drug repositioning analyzed provide perspective situation topic terms applications technological innovations.\n"
          ]
        }
      ],
      "source": [
        "# First article text after cleaning\n",
        "print(pmc_arxiv_full_text_merged_plus_cleaned_article_titles_test.text_cleaned[0])"
      ]
    },
    {
      "cell_type": "markdown",
      "metadata": {
        "id": "QIn20HiAo5DH"
      },
      "source": [
        "Comparing the text column before and after preprocessing we can see that the cleaning functions have removed stopwords and punctuation, and standalone numbers such as 1988."
      ]
    },
    {
      "cell_type": "code",
      "execution_count": null,
      "metadata": {
        "id": "vmFV0Sfho5DI"
      },
      "outputs": [],
      "source": [
        "# Reposition text_cleaned column next to text column in DataFrame.\n",
        "pmc_arxiv_full_text_merged_plus_cleaned_article_titles_test.insert(10, 'text_cleaned', pmc_arxiv_full_text_merged_plus_cleaned_article_titles_test.pop('text_cleaned'))"
      ]
    },
    {
      "cell_type": "code",
      "execution_count": null,
      "metadata": {
        "colab": {
          "base_uri": "https://localhost:8080/"
        },
        "outputId": "3ba4dc1e-6b07-42c6-af26-24ac3b9b748e",
        "id": "RJnx2NzIo5DI"
      },
      "outputs": [
        {
          "name": "stdout",
          "output_type": "stream",
          "text": [
            "<class 'pandas.core.frame.DataFrame'>\n",
            "RangeIndex: 20 entries, 0 to 19\n",
            "Data columns (total 13 columns):\n",
            " #   Column         Non-Null Count  Dtype \n",
            "---  ------         --------------  ----- \n",
            " 0   article_id     20 non-null     object\n",
            " 1   published      20 non-null     object\n",
            " 2   revised        20 non-null     object\n",
            " 3   title          20 non-null     object\n",
            " 4   title_cleaned  20 non-null     object\n",
            " 5   journal        20 non-null     object\n",
            " 6   authors        20 non-null     object\n",
            " 7   doi            20 non-null     object\n",
            " 8   pdf_url        20 non-null     object\n",
            " 9   text           20 non-null     object\n",
            " 10  text_cleaned   20 non-null     object\n",
            " 11  word_count     20 non-null     int64 \n",
            " 12  sent_count     20 non-null     int64 \n",
            "dtypes: int64(2), object(11)\n",
            "memory usage: 2.2+ KB\n"
          ]
        }
      ],
      "source": [
        "pmc_arxiv_full_text_merged_plus_cleaned_article_titles_test.info()"
      ]
    },
    {
      "cell_type": "code",
      "execution_count": null,
      "metadata": {
        "id": "ReIJuw_0o5DI"
      },
      "outputs": [],
      "source": [
        "with open('2024-03-02_pmc_arxiv_full_text_merged_plus_cleaned_article_titles_test.pickle', 'wb') as f:\n",
        "  pickle.dump(pmc_arxiv_full_text_merged_plus_cleaned_article_titles_test, f)"
      ]
    },
    {
      "cell_type": "markdown",
      "source": [
        "### 4.4 Segmentation\n",
        "\n",
        "We will perform segmentation to parse the text into sentences. The senter component of spaCy's SentenceRecognizer will be used, after disabling unused components. This is to speed up the process and avoid unwanted interactions with components that set sentence boundaries, in particular the parser.\n",
        "\n"
      ],
      "metadata": {
        "id": "8MBP-l88o5DJ"
      }
    },
    {
      "cell_type": "code",
      "execution_count": null,
      "metadata": {
        "id": "iEGXe-pGp9WP"
      },
      "outputs": [],
      "source": [
        "# Load model and disable unused pipeline components\n",
        "nlp = spacy.load(\"en_core_web_sm\", disable=[\"tok2vec\", \"tagger\", \"parser\", \"attribute_ruler\", \"lemmatizer\", \"ner\"])\n",
        "# Enable senter pipeline component\n",
        "nlp.enable_pipe(\"senter\")\n",
        "\n",
        "def sent_tok_text(doc):\n",
        "    # Create spaCy Doc object\n",
        "    doc = nlp(doc)\n",
        "    # Return the sentences in the document\n",
        "    return [sent.text for sent in doc.sents]"
      ]
    },
    {
      "cell_type": "code",
      "execution_count": null,
      "metadata": {
        "id": "W3v53lbxp9WP"
      },
      "outputs": [],
      "source": [
        "def apply_sent_tok_text(text):\n",
        "    # Create a ProcessPoolExecutor\n",
        "    with ProcessPoolExecutor() as executor:\n",
        "        # Apply the sent_tok_text function to the text column\n",
        "        sentences = list(executor.map(sent_tok_text, text))\n",
        "\n",
        "    return sentences"
      ]
    },
    {
      "cell_type": "code",
      "execution_count": null,
      "metadata": {
        "colab": {
          "base_uri": "https://localhost:8080/"
        },
        "outputId": "737d48dd-edd0-430a-bb61-f1f65f6420b1",
        "id": "bq-7jp8vp9WP"
      },
      "outputs": [
        {
          "name": "stdout",
          "output_type": "stream",
          "text": [
            "CPU times: user 23.8 ms, sys: 97.8 ms, total: 122 ms\n",
            "Wall time: 989 ms\n"
          ]
        }
      ],
      "source": [
        "%%time\n",
        "pmc_arxiv_full_text_merged_plus_cleaned_article_titles_test['sent_tok'] = apply_sent_tok_text(pmc_arxiv_full_text_merged_plus_cleaned_article_titles_test.text_cleaned)"
      ]
    },
    {
      "cell_type": "markdown",
      "metadata": {
        "id": "uDE3j6vWqdLb"
      },
      "source": [
        "### 4.5 Word tokenisation\n",
        "\n",
        "Tokenisation is the process of splitting text into smaller syntactic units such as words, characters or sub-words. We will word tokenise and lowercase the text from the text_cleaned column before encoding the tokens into numeric representations that a machine learning model can process."
      ]
    },
    {
      "cell_type": "code",
      "execution_count": null,
      "metadata": {
        "id": "ounx_huBqdL0"
      },
      "outputs": [],
      "source": [
        "def word_tok_text(texts):\n",
        "    word_tok = []\n",
        "\n",
        "    for doc in nlp.pipe(texts, batch_size=20):\n",
        "        # Tokenise each document into words\n",
        "        tokenized_words = [token.text.lower() for token in doc]\n",
        "        word_tok.append(tokenized_words)\n",
        "\n",
        "    return word_tok"
      ]
    },
    {
      "cell_type": "code",
      "execution_count": null,
      "metadata": {
        "colab": {
          "base_uri": "https://localhost:8080/"
        },
        "outputId": "52d02b68-04ec-4c4f-b78e-d51ce37474e9",
        "id": "1ks-aNSjqdL0"
      },
      "outputs": [
        {
          "name": "stdout",
          "output_type": "stream",
          "text": [
            "CPU times: user 2.95 s, sys: 704 ms, total: 3.66 s\n",
            "Wall time: 3.73 s\n"
          ]
        }
      ],
      "source": [
        "%%time\n",
        "pmc_arxiv_full_text_merged_plus_cleaned_article_titles_test['word_tok'] = word_tok_text(pmc_arxiv_full_text_merged_plus_cleaned_article_titles_test['text_cleaned'])"
      ]
    },
    {
      "cell_type": "code",
      "execution_count": null,
      "metadata": {
        "id": "XQWFaihNqdL1"
      },
      "outputs": [],
      "source": [
        "# Reposition word_tok and sent_tok columns in DataFrame.\n",
        "pmc_arxiv_full_text_merged_plus_cleaned_article_titles_test.insert(11, 'word_tok', pmc_arxiv_full_text_merged_plus_cleaned_article_titles_test.pop('word_tok'))\n",
        "pmc_arxiv_full_text_merged_plus_cleaned_article_titles_test.insert(12, 'sent_tok', pmc_arxiv_full_text_merged_plus_cleaned_article_titles_test.pop('sent_tok'))"
      ]
    },
    {
      "cell_type": "code",
      "execution_count": null,
      "metadata": {
        "colab": {
          "base_uri": "https://localhost:8080/",
          "height": 1000
        },
        "outputId": "507a8f42-8f07-46cd-f68e-d2a5b9084102",
        "id": "_EYTm9BPp9WR"
      },
      "outputs": [
        {
          "data": {
            "application/vnd.google.colaboratory.intrinsic+json": {
              "repr_error": "'str' object has no attribute 'empty'",
              "type": "dataframe",
              "variable_name": "pmc_arxiv_full_text_merged_plus_cleaned_article_titles_test"
            },
            "text/html": [
              "\n",
              "  <div id=\"df-e7beb42c-7d9c-445a-bb43-fd18896d91f6\" class=\"colab-df-container\">\n",
              "    <div>\n",
              "<style scoped>\n",
              "    .dataframe tbody tr th:only-of-type {\n",
              "        vertical-align: middle;\n",
              "    }\n",
              "\n",
              "    .dataframe tbody tr th {\n",
              "        vertical-align: top;\n",
              "    }\n",
              "\n",
              "    .dataframe thead th {\n",
              "        text-align: right;\n",
              "    }\n",
              "</style>\n",
              "<table border=\"1\" class=\"dataframe\">\n",
              "  <thead>\n",
              "    <tr style=\"text-align: right;\">\n",
              "      <th></th>\n",
              "      <th>article_id</th>\n",
              "      <th>published</th>\n",
              "      <th>revised</th>\n",
              "      <th>title</th>\n",
              "      <th>title_cleaned</th>\n",
              "      <th>journal</th>\n",
              "      <th>authors</th>\n",
              "      <th>doi</th>\n",
              "      <th>pdf_url</th>\n",
              "      <th>text</th>\n",
              "      <th>text_cleaned</th>\n",
              "      <th>word_tok</th>\n",
              "      <th>sent_tok</th>\n",
              "      <th>word_count</th>\n",
              "      <th>sent_count</th>\n",
              "    </tr>\n",
              "  </thead>\n",
              "  <tbody>\n",
              "    <tr>\n",
              "      <th>0</th>\n",
              "      <td>PMC9549161</td>\n",
              "      <td>2022-09-26</td>\n",
              "      <td>2022-10-14</td>\n",
              "      <td>Drug repositioning: A bibliometric analysis.</td>\n",
              "      <td>Drug repositioning: A bibliometric analysis.</td>\n",
              "      <td>Frontiers in pharmacology</td>\n",
              "      <td>Sun G, Dong D, Dong Z, Zhang Q, Fang H, Wang C...</td>\n",
              "      <td>10.3389/fphar.2022.974849</td>\n",
              "      <td>https://europepmc.org/articles/PMC9549161?pdf=...</td>\n",
              "      <td>Sir James Black, a winner of the 1988 Nobel Pr...</td>\n",
              "      <td>sir james black winner nobel prize clearly rec...</td>\n",
              "      <td>[sir, james, black, winner, nobel, prize, clea...</td>\n",
              "      <td>[sir james black winner nobel prize clearly re...</td>\n",
              "      <td>7309</td>\n",
              "      <td>253</td>\n",
              "    </tr>\n",
              "    <tr>\n",
              "      <th>1</th>\n",
              "      <td>PMC9539342</td>\n",
              "      <td>2022-09-22</td>\n",
              "      <td>2022-11-12</td>\n",
              "      <td>A review on computer-aided chemogenomics and d...</td>\n",
              "      <td>A review on computer-aided chemogenomics and d...</td>\n",
              "      <td>Chemical biology &amp; drug design</td>\n",
              "      <td>Maghsoudi S, Taghavi Shahraki B, Rameh F, Naza...</td>\n",
              "      <td>10.1111/cbdd.14136</td>\n",
              "      <td>https://europepmc.org/articles/PMC9539342?pdf=...</td>\n",
              "      <td>Tight and selective interaction between ligand...</td>\n",
              "      <td>tight selective interaction ligands target pro...</td>\n",
              "      <td>[tight, selective, interaction, ligands, targe...</td>\n",
              "      <td>[tight selective interaction ligands target pr...</td>\n",
              "      <td>7582</td>\n",
              "      <td>251</td>\n",
              "    </tr>\n",
              "    <tr>\n",
              "      <th>2</th>\n",
              "      <td>PMC9357751</td>\n",
              "      <td>2022-12-01</td>\n",
              "      <td>2022-12-05</td>\n",
              "      <td>Repurposing Molnupiravir as a new opportunity ...</td>\n",
              "      <td>Repurposing Molnupiravir as a new opportunity ...</td>\n",
              "      <td>Journal of Generic Medicines : Duplicate, mark...</td>\n",
              "      <td>0</td>\n",
              "      <td>0</td>\n",
              "      <td>https://europepmc.org/articles/PMC9357751?pdf=...</td>\n",
              "      <td>The severe acute respiratory syndrome coronavi...</td>\n",
              "      <td>severe acute respiratory syndrome coronavirus-...</td>\n",
              "      <td>[severe, acute, respiratory, syndrome, coronav...</td>\n",
              "      <td>[severe acute respiratory syndrome coronavirus...</td>\n",
              "      <td>3421</td>\n",
              "      <td>129</td>\n",
              "    </tr>\n",
              "    <tr>\n",
              "      <th>3</th>\n",
              "      <td>PMC9346052</td>\n",
              "      <td>2022-08-03</td>\n",
              "      <td>2022-09-05</td>\n",
              "      <td>Scope of repurposed drugs against the potentia...</td>\n",
              "      <td>Scope of repurposed drugs against the potentia...</td>\n",
              "      <td>Structural chemistry</td>\n",
              "      <td>Niranjan V, Setlur AS, Karunakaran C, Uttarkar...</td>\n",
              "      <td>10.1007/s11224-022-02020-z</td>\n",
              "      <td>https://europepmc.org/articles/PMC9346052?pdf=...</td>\n",
              "      <td>The sudden outbreak of SARS-CoV-2 in 2019 took...</td>\n",
              "      <td>sudden outbreak sars-cov-2 took world storm de...</td>\n",
              "      <td>[sudden, outbreak, sars-cov-2, took, world, st...</td>\n",
              "      <td>[sudden outbreak sars-cov-2 took world storm d...</td>\n",
              "      <td>8465</td>\n",
              "      <td>383</td>\n",
              "    </tr>\n",
              "    <tr>\n",
              "      <th>4</th>\n",
              "      <td>PMC9775208</td>\n",
              "      <td>2022-12-15</td>\n",
              "      <td>2022-12-25</td>\n",
              "      <td>Drug Repurposing Using Gene Co-Expression and ...</td>\n",
              "      <td>Drug Repurposing Using Gene Co-Expression and ...</td>\n",
              "      <td>Biology</td>\n",
              "      <td>Mailem RC, Tayo LL.</td>\n",
              "      <td>10.3390/biology11121827</td>\n",
              "      <td>https://europepmc.org/articles/PMC9775208?pdf=...</td>\n",
              "      <td>The 2019 novel coronavirus, now dubbed SARS-Co...</td>\n",
              "      <td>novel coronavirus dubbed sars-cov-2 led global...</td>\n",
              "      <td>[novel, coronavirus, dubbed, sars-cov-2, led, ...</td>\n",
              "      <td>[novel coronavirus dubbed sars-cov-2 led globa...</td>\n",
              "      <td>5499</td>\n",
              "      <td>226</td>\n",
              "    </tr>\n",
              "    <tr>\n",
              "      <th>5</th>\n",
              "      <td>PMC9527439</td>\n",
              "      <td>2022-09-25</td>\n",
              "      <td>2022-10-07</td>\n",
              "      <td>Novel Drug Design for Treatment of COVID-19: A...</td>\n",
              "      <td>Novel Drug Design for Treatment of COVID-19: A...</td>\n",
              "      <td>The Canadian journal of infectious diseases &amp; ...</td>\n",
              "      <td>Mousavi S, Zare S, Mirzaei M, Feizi A.</td>\n",
              "      <td>10.1155/2022/2044282</td>\n",
              "      <td>https://europepmc.org/articles/PMC9527439?pdf=...</td>\n",
              "      <td>Coronavirus disease 2019 (COVID-19), which was...</td>\n",
              "      <td>coronavirus disease covid-19 identified decemb...</td>\n",
              "      <td>[coronavirus, disease, covid-19, identified, d...</td>\n",
              "      <td>[coronavirus disease covid-19 identified decem...</td>\n",
              "      <td>4041</td>\n",
              "      <td>158</td>\n",
              "    </tr>\n",
              "    <tr>\n",
              "      <th>6</th>\n",
              "      <td>PMC9729590</td>\n",
              "      <td>2022-12-08</td>\n",
              "      <td>2023-01-03</td>\n",
              "      <td>Repurposing FDA-approved drugs cetilistat, abi...</td>\n",
              "      <td>Repurposing FDA-approved drugs cetilistat, abi...</td>\n",
              "      <td>Informatics in medicine unlocked</td>\n",
              "      <td>Shahabadi N, Zendehcheshm S, Mahdavi M, Khadem...</td>\n",
              "      <td>10.1016/j.imu.2022.101147</td>\n",
              "      <td>https://europepmc.org/articles/PMC9729590?pdf=...</td>\n",
              "      <td>COVID-19 is an infectious disease caused by Co...</td>\n",
              "      <td>covid-19 infectious disease caused coronavirus...</td>\n",
              "      <td>[covid-19, infectious, disease, caused, corona...</td>\n",
              "      <td>[covid-19 infectious disease caused coronaviru...</td>\n",
              "      <td>2685</td>\n",
              "      <td>145</td>\n",
              "    </tr>\n",
              "    <tr>\n",
              "      <th>7</th>\n",
              "      <td>PMC9236981</td>\n",
              "      <td>2022-06-28</td>\n",
              "      <td>2022-12-21</td>\n",
              "      <td>A comprehensive review of artificial intellige...</td>\n",
              "      <td>A comprehensive review of artificial intellige...</td>\n",
              "      <td>Biomedicine &amp; pharmacotherapy = Biomedecine &amp; ...</td>\n",
              "      <td>Ahmed F, Soomro AM, Chethikkattuveli Salih AR,...</td>\n",
              "      <td>10.1016/j.biopha.2022.113350</td>\n",
              "      <td>https://europepmc.org/articles/PMC9236981?pdf=...</td>\n",
              "      <td>A novel coronavirus (CoV) first appeared by th...</td>\n",
              "      <td>novel coronavirus cov appeared end wuhan china...</td>\n",
              "      <td>[novel, coronavirus, cov, appeared, end, wuhan...</td>\n",
              "      <td>[novel coronavirus cov appeared end wuhan chin...</td>\n",
              "      <td>11172</td>\n",
              "      <td>458</td>\n",
              "    </tr>\n",
              "    <tr>\n",
              "      <th>8</th>\n",
              "      <td>PMC9694939</td>\n",
              "      <td>2022-11-10</td>\n",
              "      <td>2022-12-13</td>\n",
              "      <td>Structural Homology-Based Drug Repurposing App...</td>\n",
              "      <td>Structural Homology-Based Drug Repurposing App...</td>\n",
              "      <td>Molecules (Basel, Switzerland)</td>\n",
              "      <td>Aljuaid A, Salam A, Almehmadi M, Baammi S, Als...</td>\n",
              "      <td>10.3390/molecules27227732</td>\n",
              "      <td>https://europepmc.org/articles/PMC9694939?pdf=...</td>\n",
              "      <td>Drug discovery is a time-consuming and costly ...</td>\n",
              "      <td>drug discovery time-consuming costly process i...</td>\n",
              "      <td>[drug, discovery, time-consuming, costly, proc...</td>\n",
              "      <td>[drug discovery time-consuming costly process ...</td>\n",
              "      <td>4482</td>\n",
              "      <td>183</td>\n",
              "    </tr>\n",
              "    <tr>\n",
              "      <th>9</th>\n",
              "      <td>PMC9556799</td>\n",
              "      <td>2022-10-13</td>\n",
              "      <td>2022-11-01</td>\n",
              "      <td>Rational drug repositioning for coronavirus-as...</td>\n",
              "      <td>Rational drug repositioning for coronavirus-as...</td>\n",
              "      <td>iScience</td>\n",
              "      <td>Wang J, Liu J, Luo M, Cui H, Zhang W, Zhao K, ...</td>\n",
              "      <td>10.1016/j.isci.2022.105348</td>\n",
              "      <td>https://europepmc.org/articles/PMC9556799?pdf=...</td>\n",
              "      <td>Coronavirus disease 2019 (COVID-19), caused by...</td>\n",
              "      <td>coronavirus disease covid-19 caused severe acu...</td>\n",
              "      <td>[coronavirus, disease, covid-19, caused, sever...</td>\n",
              "      <td>[coronavirus disease covid-19 caused severe ac...</td>\n",
              "      <td>5345</td>\n",
              "      <td>253</td>\n",
              "    </tr>\n",
              "    <tr>\n",
              "      <th>10</th>\n",
              "      <td>PMC9575573</td>\n",
              "      <td>2022-10-17</td>\n",
              "      <td>2022-10-28</td>\n",
              "      <td>Recent computational drug repositioning strate...</td>\n",
              "      <td>Recent computational drug repositioning strate...</td>\n",
              "      <td>Computational and structural biotechnology jou...</td>\n",
              "      <td>Lu L, Qin J, Chen J, Yu N, Miyano S, Deng Z, L...</td>\n",
              "      <td>10.1016/j.csbj.2022.10.017</td>\n",
              "      <td>https://europepmc.org/articles/PMC9575573?pdf=...</td>\n",
              "      <td>Beyond its first discovery in 2019, COVID-19 h...</td>\n",
              "      <td>discovery covid-19 global pandemic. caused sev...</td>\n",
              "      <td>[discovery, covid-19, global, pandemic, ., cau...</td>\n",
              "      <td>[discovery covid-19 global pandemic., caused s...</td>\n",
              "      <td>5981</td>\n",
              "      <td>251</td>\n",
              "    </tr>\n",
              "    <tr>\n",
              "      <th>11</th>\n",
              "      <td>PMC9429273</td>\n",
              "      <td>2022-08-31</td>\n",
              "      <td>2022-12-16</td>\n",
              "      <td>A computational approach to drug repurposing u...</td>\n",
              "      <td>A computational approach to drug repurposing u...</td>\n",
              "      <td>Computers in biology and medicine</td>\n",
              "      <td>Doshi S, Chepuri SP.</td>\n",
              "      <td>10.1016/j.compbiomed.2022.105992</td>\n",
              "      <td>https://europepmc.org/articles/PMC9429273?pdf=...</td>\n",
              "      <td>Drug repurposing involves strategies to identi...</td>\n",
              "      <td>drug repurposing involves strategies identify ...</td>\n",
              "      <td>[drug, repurposing, involves, strategies, iden...</td>\n",
              "      <td>[drug repurposing involves strategies identify...</td>\n",
              "      <td>5201</td>\n",
              "      <td>216</td>\n",
              "    </tr>\n",
              "    <tr>\n",
              "      <th>12</th>\n",
              "      <td>PMC9734433</td>\n",
              "      <td>2022-01-01</td>\n",
              "      <td>2022-12-23</td>\n",
              "      <td>Drug Repurposing: a Shortcut to New Biological...</td>\n",
              "      <td>Drug Repurposing: a Shortcut to New Biological...</td>\n",
              "      <td>Pharmaceutical chemistry journal</td>\n",
              "      <td>Rao N, Poojari T, Poojary C, Sande R, Sawant S.</td>\n",
              "      <td>0</td>\n",
              "      <td>https://europepmc.org/articles/PMC9734433?pdf=...</td>\n",
              "      <td>\\n1. Introduction\\nDrug repurposing, also know...</td>\n",
              "      <td>. introduction drug repurposing known names dr...</td>\n",
              "      <td>[., introduction, drug, repurposing, known, na...</td>\n",
              "      <td>[., introduction drug repurposing known names ...</td>\n",
              "      <td>3985</td>\n",
              "      <td>193</td>\n",
              "    </tr>\n",
              "    <tr>\n",
              "      <th>13</th>\n",
              "      <td>PMC9654784</td>\n",
              "      <td>2022-11-03</td>\n",
              "      <td>2022-11-17</td>\n",
              "      <td>Targeting SARS-CoV-2 nsp13 Helicase and Assess...</td>\n",
              "      <td>Targeting SARS-CoV-2 nsp13 Helicase and Assess...</td>\n",
              "      <td>Molecules (Basel, Switzerland)</td>\n",
              "      <td>Romeo I, Ambrosio FA, Costa G, Corona A, Alkha...</td>\n",
              "      <td>10.3390/molecules27217522</td>\n",
              "      <td>https://europepmc.org/articles/PMC9654784?pdf=...</td>\n",
              "      <td>As of 16 September 2022, the WHO had already r...</td>\n",
              "      <td>september received reports million confirmed c...</td>\n",
              "      <td>[september, received, reports, million, confir...</td>\n",
              "      <td>[september received reports million confirmed ...</td>\n",
              "      <td>4218</td>\n",
              "      <td>186</td>\n",
              "    </tr>\n",
              "    <tr>\n",
              "      <th>14</th>\n",
              "      <td>PMC9774286</td>\n",
              "      <td>2022-11-22</td>\n",
              "      <td>2022-12-25</td>\n",
              "      <td>An Overview of Repurposed Drugs for Potential ...</td>\n",
              "      <td>An Overview of Repurposed Drugs for Potential ...</td>\n",
              "      <td>Antibiotics (Basel, Switzerland)</td>\n",
              "      <td>Govender K, Chuturgoon A.</td>\n",
              "      <td>10.3390/antibiotics11121678</td>\n",
              "      <td>https://europepmc.org/articles/PMC9774286?pdf=...</td>\n",
              "      <td>COVID-19 was first discovered in 2019 in Wuhan...</td>\n",
              "      <td>covid-19 discovered wuhan china. disease cause...</td>\n",
              "      <td>[covid-19, discovered, wuhan, china, ., diseas...</td>\n",
              "      <td>[covid-19 discovered wuhan china., disease cau...</td>\n",
              "      <td>4342</td>\n",
              "      <td>279</td>\n",
              "    </tr>\n",
              "    <tr>\n",
              "      <th>15</th>\n",
              "      <td>PMC9505381</td>\n",
              "      <td>2022-09-14</td>\n",
              "      <td>2022-09-28</td>\n",
              "      <td>In Silico Study towards Repositioning of FDA-A...</td>\n",
              "      <td>In Silico Study towards Repositioning of FDA-A...</td>\n",
              "      <td>Molecules (Basel, Switzerland)</td>\n",
              "      <td>Qayed WS, Ferreira RS, Silva JRA.</td>\n",
              "      <td>10.3390/molecules27185988</td>\n",
              "      <td>https://europepmc.org/articles/PMC9505381?pdf=...</td>\n",
              "      <td>Severe acute respiratory syndrome coronavirus ...</td>\n",
              "      <td>severe acute respiratory syndrome coronavirus ...</td>\n",
              "      <td>[severe, acute, respiratory, syndrome, coronav...</td>\n",
              "      <td>[severe acute respiratory syndrome coronavirus...</td>\n",
              "      <td>5158</td>\n",
              "      <td>257</td>\n",
              "    </tr>\n",
              "    <tr>\n",
              "      <th>16</th>\n",
              "      <td>PMC9271419</td>\n",
              "      <td>2022-07-11</td>\n",
              "      <td>2022-07-19</td>\n",
              "      <td>Variations of SARS-CoV-2 in the Iranian popula...</td>\n",
              "      <td>Variations of SARS-CoV-2 in the Iranian popula...</td>\n",
              "      <td>Heliyon</td>\n",
              "      <td>Mortezaei Z, Mohammadian A, Tavallaei M.</td>\n",
              "      <td>10.1016/j.heliyon.2022.e09910</td>\n",
              "      <td>https://europepmc.org/articles/PMC9271419?pdf=...</td>\n",
              "      <td>COVID-19 is a disease caused by the new corona...</td>\n",
              "      <td>covid-19 disease caused new coronavirus sars-c...</td>\n",
              "      <td>[covid-19, disease, caused, new, coronavirus, ...</td>\n",
              "      <td>[covid-19 disease caused new coronavirus sars-...</td>\n",
              "      <td>3934</td>\n",
              "      <td>163</td>\n",
              "    </tr>\n",
              "    <tr>\n",
              "      <th>17</th>\n",
              "      <td>PMC9616420</td>\n",
              "      <td>2022-10-28</td>\n",
              "      <td>2022-12-29</td>\n",
              "      <td>DeepLPI: a novel deep learning-based model for...</td>\n",
              "      <td>DeepLPI: a novel deep learning-based model for...</td>\n",
              "      <td>Scientific reports</td>\n",
              "      <td>Wei B, Zhang Y, Gong X.</td>\n",
              "      <td>10.1038/s41598-022-23014-1</td>\n",
              "      <td>https://europepmc.org/articles/PMC9616420?pdf=...</td>\n",
              "      <td>Introducing a new drug to the market has been ...</td>\n",
              "      <td>introducing new drug market characterized risk...</td>\n",
              "      <td>[introducing, new, drug, market, characterized...</td>\n",
              "      <td>[introducing new drug market characterized ris...</td>\n",
              "      <td>4222</td>\n",
              "      <td>175</td>\n",
              "    </tr>\n",
              "    <tr>\n",
              "      <th>18</th>\n",
              "      <td>PMC9479384</td>\n",
              "      <td>2022-09-16</td>\n",
              "      <td>2022-10-14</td>\n",
              "      <td>Exploring the anti-SARS-CoV-2 main protease po...</td>\n",
              "      <td>Exploring the anti-SARS-CoV-2 main protease po...</td>\n",
              "      <td>International journal of biological macromolec...</td>\n",
              "      <td>Attiq N, Arshad U, Brogi S, Shafiq N, Imtiaz F...</td>\n",
              "      <td>10.1016/j.ijbiomac.2022.09.086</td>\n",
              "      <td>https://europepmc.org/articles/PMC9479384?pdf=...</td>\n",
              "      <td>In December 2019 the world health organization...</td>\n",
              "      <td>december world health organization named infec...</td>\n",
              "      <td>[december, world, health, organization, named,...</td>\n",
              "      <td>[december world health organization named infe...</td>\n",
              "      <td>3932</td>\n",
              "      <td>160</td>\n",
              "    </tr>\n",
              "    <tr>\n",
              "      <th>19</th>\n",
              "      <td>PMC9066385</td>\n",
              "      <td>2022-10-01</td>\n",
              "      <td>2022-10-05</td>\n",
              "      <td>Artificial Neural Network-Based Study Predicts...</td>\n",
              "      <td>Artificial Neural Network-Based Study Predicts...</td>\n",
              "      <td>Applied biochemistry and biotechnology</td>\n",
              "      <td>Dhanalakshmi M, Das K, Pandya M, Shah S, Gadna...</td>\n",
              "      <td>10.1007/s12010-022-03928-2</td>\n",
              "      <td>https://europepmc.org/articles/PMC9066385?pdf=...</td>\n",
              "      <td>In the recent past even after a huge developme...</td>\n",
              "      <td>recent past huge development pharma industries...</td>\n",
              "      <td>[recent, past, huge, development, pharma, indu...</td>\n",
              "      <td>[recent past huge development pharma industrie...</td>\n",
              "      <td>4930</td>\n",
              "      <td>224</td>\n",
              "    </tr>\n",
              "  </tbody>\n",
              "</table>\n",
              "</div>\n",
              "    <div class=\"colab-df-buttons\">\n",
              "\n",
              "  <div class=\"colab-df-container\">\n",
              "    <button class=\"colab-df-convert\" onclick=\"convertToInteractive('df-e7beb42c-7d9c-445a-bb43-fd18896d91f6')\"\n",
              "            title=\"Convert this dataframe to an interactive table.\"\n",
              "            style=\"display:none;\">\n",
              "\n",
              "  <svg xmlns=\"http://www.w3.org/2000/svg\" height=\"24px\" viewBox=\"0 -960 960 960\">\n",
              "    <path d=\"M120-120v-720h720v720H120Zm60-500h600v-160H180v160Zm220 220h160v-160H400v160Zm0 220h160v-160H400v160ZM180-400h160v-160H180v160Zm440 0h160v-160H620v160ZM180-180h160v-160H180v160Zm440 0h160v-160H620v160Z\"/>\n",
              "  </svg>\n",
              "    </button>\n",
              "\n",
              "  <style>\n",
              "    .colab-df-container {\n",
              "      display:flex;\n",
              "      gap: 12px;\n",
              "    }\n",
              "\n",
              "    .colab-df-convert {\n",
              "      background-color: #E8F0FE;\n",
              "      border: none;\n",
              "      border-radius: 50%;\n",
              "      cursor: pointer;\n",
              "      display: none;\n",
              "      fill: #1967D2;\n",
              "      height: 32px;\n",
              "      padding: 0 0 0 0;\n",
              "      width: 32px;\n",
              "    }\n",
              "\n",
              "    .colab-df-convert:hover {\n",
              "      background-color: #E2EBFA;\n",
              "      box-shadow: 0px 1px 2px rgba(60, 64, 67, 0.3), 0px 1px 3px 1px rgba(60, 64, 67, 0.15);\n",
              "      fill: #174EA6;\n",
              "    }\n",
              "\n",
              "    .colab-df-buttons div {\n",
              "      margin-bottom: 4px;\n",
              "    }\n",
              "\n",
              "    [theme=dark] .colab-df-convert {\n",
              "      background-color: #3B4455;\n",
              "      fill: #D2E3FC;\n",
              "    }\n",
              "\n",
              "    [theme=dark] .colab-df-convert:hover {\n",
              "      background-color: #434B5C;\n",
              "      box-shadow: 0px 1px 3px 1px rgba(0, 0, 0, 0.15);\n",
              "      filter: drop-shadow(0px 1px 2px rgba(0, 0, 0, 0.3));\n",
              "      fill: #FFFFFF;\n",
              "    }\n",
              "  </style>\n",
              "\n",
              "    <script>\n",
              "      const buttonEl =\n",
              "        document.querySelector('#df-e7beb42c-7d9c-445a-bb43-fd18896d91f6 button.colab-df-convert');\n",
              "      buttonEl.style.display =\n",
              "        google.colab.kernel.accessAllowed ? 'block' : 'none';\n",
              "\n",
              "      async function convertToInteractive(key) {\n",
              "        const element = document.querySelector('#df-e7beb42c-7d9c-445a-bb43-fd18896d91f6');\n",
              "        const dataTable =\n",
              "          await google.colab.kernel.invokeFunction('convertToInteractive',\n",
              "                                                    [key], {});\n",
              "        if (!dataTable) return;\n",
              "\n",
              "        const docLinkHtml = 'Like what you see? Visit the ' +\n",
              "          '<a target=\"_blank\" href=https://colab.research.google.com/notebooks/data_table.ipynb>data table notebook</a>'\n",
              "          + ' to learn more about interactive tables.';\n",
              "        element.innerHTML = '';\n",
              "        dataTable['output_type'] = 'display_data';\n",
              "        await google.colab.output.renderOutput(dataTable, element);\n",
              "        const docLink = document.createElement('div');\n",
              "        docLink.innerHTML = docLinkHtml;\n",
              "        element.appendChild(docLink);\n",
              "      }\n",
              "    </script>\n",
              "  </div>\n",
              "\n",
              "\n",
              "<div id=\"df-0afde4d9-599e-4536-b875-1fd4026f0a71\">\n",
              "  <button class=\"colab-df-quickchart\" onclick=\"quickchart('df-0afde4d9-599e-4536-b875-1fd4026f0a71')\"\n",
              "            title=\"Suggest charts\"\n",
              "            style=\"display:none;\">\n",
              "\n",
              "<svg xmlns=\"http://www.w3.org/2000/svg\" height=\"24px\"viewBox=\"0 0 24 24\"\n",
              "     width=\"24px\">\n",
              "    <g>\n",
              "        <path d=\"M19 3H5c-1.1 0-2 .9-2 2v14c0 1.1.9 2 2 2h14c1.1 0 2-.9 2-2V5c0-1.1-.9-2-2-2zM9 17H7v-7h2v7zm4 0h-2V7h2v10zm4 0h-2v-4h2v4z\"/>\n",
              "    </g>\n",
              "</svg>\n",
              "  </button>\n",
              "\n",
              "<style>\n",
              "  .colab-df-quickchart {\n",
              "      --bg-color: #E8F0FE;\n",
              "      --fill-color: #1967D2;\n",
              "      --hover-bg-color: #E2EBFA;\n",
              "      --hover-fill-color: #174EA6;\n",
              "      --disabled-fill-color: #AAA;\n",
              "      --disabled-bg-color: #DDD;\n",
              "  }\n",
              "\n",
              "  [theme=dark] .colab-df-quickchart {\n",
              "      --bg-color: #3B4455;\n",
              "      --fill-color: #D2E3FC;\n",
              "      --hover-bg-color: #434B5C;\n",
              "      --hover-fill-color: #FFFFFF;\n",
              "      --disabled-bg-color: #3B4455;\n",
              "      --disabled-fill-color: #666;\n",
              "  }\n",
              "\n",
              "  .colab-df-quickchart {\n",
              "    background-color: var(--bg-color);\n",
              "    border: none;\n",
              "    border-radius: 50%;\n",
              "    cursor: pointer;\n",
              "    display: none;\n",
              "    fill: var(--fill-color);\n",
              "    height: 32px;\n",
              "    padding: 0;\n",
              "    width: 32px;\n",
              "  }\n",
              "\n",
              "  .colab-df-quickchart:hover {\n",
              "    background-color: var(--hover-bg-color);\n",
              "    box-shadow: 0 1px 2px rgba(60, 64, 67, 0.3), 0 1px 3px 1px rgba(60, 64, 67, 0.15);\n",
              "    fill: var(--button-hover-fill-color);\n",
              "  }\n",
              "\n",
              "  .colab-df-quickchart-complete:disabled,\n",
              "  .colab-df-quickchart-complete:disabled:hover {\n",
              "    background-color: var(--disabled-bg-color);\n",
              "    fill: var(--disabled-fill-color);\n",
              "    box-shadow: none;\n",
              "  }\n",
              "\n",
              "  .colab-df-spinner {\n",
              "    border: 2px solid var(--fill-color);\n",
              "    border-color: transparent;\n",
              "    border-bottom-color: var(--fill-color);\n",
              "    animation:\n",
              "      spin 1s steps(1) infinite;\n",
              "  }\n",
              "\n",
              "  @keyframes spin {\n",
              "    0% {\n",
              "      border-color: transparent;\n",
              "      border-bottom-color: var(--fill-color);\n",
              "      border-left-color: var(--fill-color);\n",
              "    }\n",
              "    20% {\n",
              "      border-color: transparent;\n",
              "      border-left-color: var(--fill-color);\n",
              "      border-top-color: var(--fill-color);\n",
              "    }\n",
              "    30% {\n",
              "      border-color: transparent;\n",
              "      border-left-color: var(--fill-color);\n",
              "      border-top-color: var(--fill-color);\n",
              "      border-right-color: var(--fill-color);\n",
              "    }\n",
              "    40% {\n",
              "      border-color: transparent;\n",
              "      border-right-color: var(--fill-color);\n",
              "      border-top-color: var(--fill-color);\n",
              "    }\n",
              "    60% {\n",
              "      border-color: transparent;\n",
              "      border-right-color: var(--fill-color);\n",
              "    }\n",
              "    80% {\n",
              "      border-color: transparent;\n",
              "      border-right-color: var(--fill-color);\n",
              "      border-bottom-color: var(--fill-color);\n",
              "    }\n",
              "    90% {\n",
              "      border-color: transparent;\n",
              "      border-bottom-color: var(--fill-color);\n",
              "    }\n",
              "  }\n",
              "</style>\n",
              "\n",
              "  <script>\n",
              "    async function quickchart(key) {\n",
              "      const quickchartButtonEl =\n",
              "        document.querySelector('#' + key + ' button');\n",
              "      quickchartButtonEl.disabled = true;  // To prevent multiple clicks.\n",
              "      quickchartButtonEl.classList.add('colab-df-spinner');\n",
              "      try {\n",
              "        const charts = await google.colab.kernel.invokeFunction(\n",
              "            'suggestCharts', [key], {});\n",
              "      } catch (error) {\n",
              "        console.error('Error during call to suggestCharts:', error);\n",
              "      }\n",
              "      quickchartButtonEl.classList.remove('colab-df-spinner');\n",
              "      quickchartButtonEl.classList.add('colab-df-quickchart-complete');\n",
              "    }\n",
              "    (() => {\n",
              "      let quickchartButtonEl =\n",
              "        document.querySelector('#df-0afde4d9-599e-4536-b875-1fd4026f0a71 button');\n",
              "      quickchartButtonEl.style.display =\n",
              "        google.colab.kernel.accessAllowed ? 'block' : 'none';\n",
              "    })();\n",
              "  </script>\n",
              "</div>\n",
              "    </div>\n",
              "  </div>\n"
            ],
            "text/plain": [
              "    article_id   published     revised  \\\n",
              "0   PMC9549161  2022-09-26  2022-10-14   \n",
              "1   PMC9539342  2022-09-22  2022-11-12   \n",
              "2   PMC9357751  2022-12-01  2022-12-05   \n",
              "3   PMC9346052  2022-08-03  2022-09-05   \n",
              "4   PMC9775208  2022-12-15  2022-12-25   \n",
              "5   PMC9527439  2022-09-25  2022-10-07   \n",
              "6   PMC9729590  2022-12-08  2023-01-03   \n",
              "7   PMC9236981  2022-06-28  2022-12-21   \n",
              "8   PMC9694939  2022-11-10  2022-12-13   \n",
              "9   PMC9556799  2022-10-13  2022-11-01   \n",
              "10  PMC9575573  2022-10-17  2022-10-28   \n",
              "11  PMC9429273  2022-08-31  2022-12-16   \n",
              "12  PMC9734433  2022-01-01  2022-12-23   \n",
              "13  PMC9654784  2022-11-03  2022-11-17   \n",
              "14  PMC9774286  2022-11-22  2022-12-25   \n",
              "15  PMC9505381  2022-09-14  2022-09-28   \n",
              "16  PMC9271419  2022-07-11  2022-07-19   \n",
              "17  PMC9616420  2022-10-28  2022-12-29   \n",
              "18  PMC9479384  2022-09-16  2022-10-14   \n",
              "19  PMC9066385  2022-10-01  2022-10-05   \n",
              "\n",
              "                                                title  \\\n",
              "0        Drug repositioning: A bibliometric analysis.   \n",
              "1   A review on computer-aided chemogenomics and d...   \n",
              "2   Repurposing Molnupiravir as a new opportunity ...   \n",
              "3   Scope of repurposed drugs against the potentia...   \n",
              "4   Drug Repurposing Using Gene Co-Expression and ...   \n",
              "5   Novel Drug Design for Treatment of COVID-19: A...   \n",
              "6   Repurposing FDA-approved drugs cetilistat, abi...   \n",
              "7   A comprehensive review of artificial intellige...   \n",
              "8   Structural Homology-Based Drug Repurposing App...   \n",
              "9   Rational drug repositioning for coronavirus-as...   \n",
              "10  Recent computational drug repositioning strate...   \n",
              "11  A computational approach to drug repurposing u...   \n",
              "12  Drug Repurposing: a Shortcut to New Biological...   \n",
              "13  Targeting SARS-CoV-2 nsp13 Helicase and Assess...   \n",
              "14  An Overview of Repurposed Drugs for Potential ...   \n",
              "15  In Silico Study towards Repositioning of FDA-A...   \n",
              "16  Variations of SARS-CoV-2 in the Iranian popula...   \n",
              "17  DeepLPI: a novel deep learning-based model for...   \n",
              "18  Exploring the anti-SARS-CoV-2 main protease po...   \n",
              "19  Artificial Neural Network-Based Study Predicts...   \n",
              "\n",
              "                                        title_cleaned  \\\n",
              "0        Drug repositioning: A bibliometric analysis.   \n",
              "1   A review on computer-aided chemogenomics and d...   \n",
              "2   Repurposing Molnupiravir as a new opportunity ...   \n",
              "3   Scope of repurposed drugs against the potentia...   \n",
              "4   Drug Repurposing Using Gene Co-Expression and ...   \n",
              "5   Novel Drug Design for Treatment of COVID-19: A...   \n",
              "6   Repurposing FDA-approved drugs cetilistat, abi...   \n",
              "7   A comprehensive review of artificial intellige...   \n",
              "8   Structural Homology-Based Drug Repurposing App...   \n",
              "9   Rational drug repositioning for coronavirus-as...   \n",
              "10  Recent computational drug repositioning strate...   \n",
              "11  A computational approach to drug repurposing u...   \n",
              "12  Drug Repurposing: a Shortcut to New Biological...   \n",
              "13  Targeting SARS-CoV-2 nsp13 Helicase and Assess...   \n",
              "14  An Overview of Repurposed Drugs for Potential ...   \n",
              "15  In Silico Study towards Repositioning of FDA-A...   \n",
              "16  Variations of SARS-CoV-2 in the Iranian popula...   \n",
              "17  DeepLPI: a novel deep learning-based model for...   \n",
              "18  Exploring the anti-SARS-CoV-2 main protease po...   \n",
              "19  Artificial Neural Network-Based Study Predicts...   \n",
              "\n",
              "                                              journal  \\\n",
              "0                           Frontiers in pharmacology   \n",
              "1                      Chemical biology & drug design   \n",
              "2   Journal of Generic Medicines : Duplicate, mark...   \n",
              "3                                Structural chemistry   \n",
              "4                                             Biology   \n",
              "5   The Canadian journal of infectious diseases & ...   \n",
              "6                    Informatics in medicine unlocked   \n",
              "7   Biomedicine & pharmacotherapy = Biomedecine & ...   \n",
              "8                      Molecules (Basel, Switzerland)   \n",
              "9                                            iScience   \n",
              "10  Computational and structural biotechnology jou...   \n",
              "11                  Computers in biology and medicine   \n",
              "12                   Pharmaceutical chemistry journal   \n",
              "13                     Molecules (Basel, Switzerland)   \n",
              "14                   Antibiotics (Basel, Switzerland)   \n",
              "15                     Molecules (Basel, Switzerland)   \n",
              "16                                            Heliyon   \n",
              "17                                 Scientific reports   \n",
              "18  International journal of biological macromolec...   \n",
              "19             Applied biochemistry and biotechnology   \n",
              "\n",
              "                                              authors  \\\n",
              "0   Sun G, Dong D, Dong Z, Zhang Q, Fang H, Wang C...   \n",
              "1   Maghsoudi S, Taghavi Shahraki B, Rameh F, Naza...   \n",
              "2                                                   0   \n",
              "3   Niranjan V, Setlur AS, Karunakaran C, Uttarkar...   \n",
              "4                                 Mailem RC, Tayo LL.   \n",
              "5              Mousavi S, Zare S, Mirzaei M, Feizi A.   \n",
              "6   Shahabadi N, Zendehcheshm S, Mahdavi M, Khadem...   \n",
              "7   Ahmed F, Soomro AM, Chethikkattuveli Salih AR,...   \n",
              "8   Aljuaid A, Salam A, Almehmadi M, Baammi S, Als...   \n",
              "9   Wang J, Liu J, Luo M, Cui H, Zhang W, Zhao K, ...   \n",
              "10  Lu L, Qin J, Chen J, Yu N, Miyano S, Deng Z, L...   \n",
              "11                               Doshi S, Chepuri SP.   \n",
              "12    Rao N, Poojari T, Poojary C, Sande R, Sawant S.   \n",
              "13  Romeo I, Ambrosio FA, Costa G, Corona A, Alkha...   \n",
              "14                          Govender K, Chuturgoon A.   \n",
              "15                  Qayed WS, Ferreira RS, Silva JRA.   \n",
              "16           Mortezaei Z, Mohammadian A, Tavallaei M.   \n",
              "17                            Wei B, Zhang Y, Gong X.   \n",
              "18  Attiq N, Arshad U, Brogi S, Shafiq N, Imtiaz F...   \n",
              "19  Dhanalakshmi M, Das K, Pandya M, Shah S, Gadna...   \n",
              "\n",
              "                                 doi  \\\n",
              "0          10.3389/fphar.2022.974849   \n",
              "1                 10.1111/cbdd.14136   \n",
              "2                                  0   \n",
              "3         10.1007/s11224-022-02020-z   \n",
              "4            10.3390/biology11121827   \n",
              "5               10.1155/2022/2044282   \n",
              "6          10.1016/j.imu.2022.101147   \n",
              "7       10.1016/j.biopha.2022.113350   \n",
              "8          10.3390/molecules27227732   \n",
              "9         10.1016/j.isci.2022.105348   \n",
              "10        10.1016/j.csbj.2022.10.017   \n",
              "11  10.1016/j.compbiomed.2022.105992   \n",
              "12                                 0   \n",
              "13         10.3390/molecules27217522   \n",
              "14       10.3390/antibiotics11121678   \n",
              "15         10.3390/molecules27185988   \n",
              "16     10.1016/j.heliyon.2022.e09910   \n",
              "17        10.1038/s41598-022-23014-1   \n",
              "18    10.1016/j.ijbiomac.2022.09.086   \n",
              "19        10.1007/s12010-022-03928-2   \n",
              "\n",
              "                                              pdf_url  \\\n",
              "0   https://europepmc.org/articles/PMC9549161?pdf=...   \n",
              "1   https://europepmc.org/articles/PMC9539342?pdf=...   \n",
              "2   https://europepmc.org/articles/PMC9357751?pdf=...   \n",
              "3   https://europepmc.org/articles/PMC9346052?pdf=...   \n",
              "4   https://europepmc.org/articles/PMC9775208?pdf=...   \n",
              "5   https://europepmc.org/articles/PMC9527439?pdf=...   \n",
              "6   https://europepmc.org/articles/PMC9729590?pdf=...   \n",
              "7   https://europepmc.org/articles/PMC9236981?pdf=...   \n",
              "8   https://europepmc.org/articles/PMC9694939?pdf=...   \n",
              "9   https://europepmc.org/articles/PMC9556799?pdf=...   \n",
              "10  https://europepmc.org/articles/PMC9575573?pdf=...   \n",
              "11  https://europepmc.org/articles/PMC9429273?pdf=...   \n",
              "12  https://europepmc.org/articles/PMC9734433?pdf=...   \n",
              "13  https://europepmc.org/articles/PMC9654784?pdf=...   \n",
              "14  https://europepmc.org/articles/PMC9774286?pdf=...   \n",
              "15  https://europepmc.org/articles/PMC9505381?pdf=...   \n",
              "16  https://europepmc.org/articles/PMC9271419?pdf=...   \n",
              "17  https://europepmc.org/articles/PMC9616420?pdf=...   \n",
              "18  https://europepmc.org/articles/PMC9479384?pdf=...   \n",
              "19  https://europepmc.org/articles/PMC9066385?pdf=...   \n",
              "\n",
              "                                                 text  \\\n",
              "0   Sir James Black, a winner of the 1988 Nobel Pr...   \n",
              "1   Tight and selective interaction between ligand...   \n",
              "2   The severe acute respiratory syndrome coronavi...   \n",
              "3   The sudden outbreak of SARS-CoV-2 in 2019 took...   \n",
              "4   The 2019 novel coronavirus, now dubbed SARS-Co...   \n",
              "5   Coronavirus disease 2019 (COVID-19), which was...   \n",
              "6   COVID-19 is an infectious disease caused by Co...   \n",
              "7   A novel coronavirus (CoV) first appeared by th...   \n",
              "8   Drug discovery is a time-consuming and costly ...   \n",
              "9   Coronavirus disease 2019 (COVID-19), caused by...   \n",
              "10  Beyond its first discovery in 2019, COVID-19 h...   \n",
              "11  Drug repurposing involves strategies to identi...   \n",
              "12  \\n1. Introduction\\nDrug repurposing, also know...   \n",
              "13  As of 16 September 2022, the WHO had already r...   \n",
              "14  COVID-19 was first discovered in 2019 in Wuhan...   \n",
              "15  Severe acute respiratory syndrome coronavirus ...   \n",
              "16  COVID-19 is a disease caused by the new corona...   \n",
              "17  Introducing a new drug to the market has been ...   \n",
              "18  In December 2019 the world health organization...   \n",
              "19  In the recent past even after a huge developme...   \n",
              "\n",
              "                                         text_cleaned  \\\n",
              "0   sir james black winner nobel prize clearly rec...   \n",
              "1   tight selective interaction ligands target pro...   \n",
              "2   severe acute respiratory syndrome coronavirus-...   \n",
              "3   sudden outbreak sars-cov-2 took world storm de...   \n",
              "4   novel coronavirus dubbed sars-cov-2 led global...   \n",
              "5   coronavirus disease covid-19 identified decemb...   \n",
              "6   covid-19 infectious disease caused coronavirus...   \n",
              "7   novel coronavirus cov appeared end wuhan china...   \n",
              "8   drug discovery time-consuming costly process i...   \n",
              "9   coronavirus disease covid-19 caused severe acu...   \n",
              "10  discovery covid-19 global pandemic. caused sev...   \n",
              "11  drug repurposing involves strategies identify ...   \n",
              "12  . introduction drug repurposing known names dr...   \n",
              "13  september received reports million confirmed c...   \n",
              "14  covid-19 discovered wuhan china. disease cause...   \n",
              "15  severe acute respiratory syndrome coronavirus ...   \n",
              "16  covid-19 disease caused new coronavirus sars-c...   \n",
              "17  introducing new drug market characterized risk...   \n",
              "18  december world health organization named infec...   \n",
              "19  recent past huge development pharma industries...   \n",
              "\n",
              "                                             word_tok  \\\n",
              "0   [sir, james, black, winner, nobel, prize, clea...   \n",
              "1   [tight, selective, interaction, ligands, targe...   \n",
              "2   [severe, acute, respiratory, syndrome, coronav...   \n",
              "3   [sudden, outbreak, sars-cov-2, took, world, st...   \n",
              "4   [novel, coronavirus, dubbed, sars-cov-2, led, ...   \n",
              "5   [coronavirus, disease, covid-19, identified, d...   \n",
              "6   [covid-19, infectious, disease, caused, corona...   \n",
              "7   [novel, coronavirus, cov, appeared, end, wuhan...   \n",
              "8   [drug, discovery, time-consuming, costly, proc...   \n",
              "9   [coronavirus, disease, covid-19, caused, sever...   \n",
              "10  [discovery, covid-19, global, pandemic, ., cau...   \n",
              "11  [drug, repurposing, involves, strategies, iden...   \n",
              "12  [., introduction, drug, repurposing, known, na...   \n",
              "13  [september, received, reports, million, confir...   \n",
              "14  [covid-19, discovered, wuhan, china, ., diseas...   \n",
              "15  [severe, acute, respiratory, syndrome, coronav...   \n",
              "16  [covid-19, disease, caused, new, coronavirus, ...   \n",
              "17  [introducing, new, drug, market, characterized...   \n",
              "18  [december, world, health, organization, named,...   \n",
              "19  [recent, past, huge, development, pharma, indu...   \n",
              "\n",
              "                                             sent_tok  word_count  sent_count  \n",
              "0   [sir james black winner nobel prize clearly re...        7309         253  \n",
              "1   [tight selective interaction ligands target pr...        7582         251  \n",
              "2   [severe acute respiratory syndrome coronavirus...        3421         129  \n",
              "3   [sudden outbreak sars-cov-2 took world storm d...        8465         383  \n",
              "4   [novel coronavirus dubbed sars-cov-2 led globa...        5499         226  \n",
              "5   [coronavirus disease covid-19 identified decem...        4041         158  \n",
              "6   [covid-19 infectious disease caused coronaviru...        2685         145  \n",
              "7   [novel coronavirus cov appeared end wuhan chin...       11172         458  \n",
              "8   [drug discovery time-consuming costly process ...        4482         183  \n",
              "9   [coronavirus disease covid-19 caused severe ac...        5345         253  \n",
              "10  [discovery covid-19 global pandemic., caused s...        5981         251  \n",
              "11  [drug repurposing involves strategies identify...        5201         216  \n",
              "12  [., introduction drug repurposing known names ...        3985         193  \n",
              "13  [september received reports million confirmed ...        4218         186  \n",
              "14  [covid-19 discovered wuhan china., disease cau...        4342         279  \n",
              "15  [severe acute respiratory syndrome coronavirus...        5158         257  \n",
              "16  [covid-19 disease caused new coronavirus sars-...        3934         163  \n",
              "17  [introducing new drug market characterized ris...        4222         175  \n",
              "18  [december world health organization named infe...        3932         160  \n",
              "19  [recent past huge development pharma industrie...        4930         224  "
            ]
          },
          "execution_count": 9,
          "metadata": {},
          "output_type": "execute_result"
        }
      ],
      "source": [
        "pmc_arxiv_full_text_merged_plus_cleaned_article_titles_test.head(20)"
      ]
    },
    {
      "cell_type": "code",
      "execution_count": null,
      "metadata": {
        "colab": {
          "base_uri": "https://localhost:8080/"
        },
        "outputId": "99804f70-e9c7-47ea-c916-dffc9239bbe8",
        "id": "Jf3IIm-mgJ2J"
      },
      "outputs": [
        {
          "name": "stdout",
          "output_type": "stream",
          "text": [
            "<class 'pandas.core.frame.DataFrame'>\n",
            "RangeIndex: 20 entries, 0 to 19\n",
            "Data columns (total 15 columns):\n",
            " #   Column         Non-Null Count  Dtype \n",
            "---  ------         --------------  ----- \n",
            " 0   article_id     20 non-null     object\n",
            " 1   published      20 non-null     object\n",
            " 2   revised        20 non-null     object\n",
            " 3   title          20 non-null     object\n",
            " 4   title_cleaned  20 non-null     object\n",
            " 5   journal        20 non-null     object\n",
            " 6   authors        20 non-null     object\n",
            " 7   doi            20 non-null     object\n",
            " 8   pdf_url        20 non-null     object\n",
            " 9   text           20 non-null     object\n",
            " 10  text_cleaned   20 non-null     object\n",
            " 11  word_tok       20 non-null     object\n",
            " 12  sent_tok       20 non-null     object\n",
            " 13  word_count     20 non-null     int64 \n",
            " 14  sent_count     20 non-null     int64 \n",
            "dtypes: int64(2), object(13)\n",
            "memory usage: 2.5+ KB\n"
          ]
        }
      ],
      "source": [
        "pmc_arxiv_full_text_merged_plus_cleaned_article_titles_test.info()"
      ]
    },
    {
      "cell_type": "code",
      "execution_count": null,
      "metadata": {
        "id": "H_c3BMydp9WR"
      },
      "outputs": [],
      "source": [
        "with open('2024-03-02_pmc_arxiv_full_text_merged_plus_cleaned_article_titles_test_tokenized.pickle', 'wb') as f:\n",
        "  pickle.dump(pmc_arxiv_full_text_merged_plus_cleaned_article_titles_test, f)"
      ]
    },
    {
      "cell_type": "markdown",
      "source": [
        "### References\n",
        "\n",
        "*  https://towardsdatascience.com/turbo-charge-your-spacy-nlp-pipeline-551435b664ad\n",
        "\n",
        "* https://machinelearningknowledge.ai/complete-guide-to-spacy-tokenizer-with-examples/#Sentence_Tokenization"
      ],
      "metadata": {
        "id": "73vwngkjVJwe"
      }
    }
  ]
}